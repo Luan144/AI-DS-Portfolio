{
 "cells": [
  {
   "cell_type": "code",
   "execution_count": 1,
   "metadata": {},
   "outputs": [],
   "source": [
    "import pandas as pd\n",
    "import numpy as np\n",
    "import matplotlib.pyplot as plt\n",
    "import seaborn as sns\n",
    "\n",
    "sns.set_style('darkgrid')\n",
    "%matplotlib inline"
   ]
  },
  {
   "cell_type": "code",
   "execution_count": 2,
   "metadata": {},
   "outputs": [
    {
     "name": "stdout",
     "output_type": "stream",
     "text": [
      "<class 'pandas.core.frame.DataFrame'>\n",
      "RangeIndex: 418 entries, 0 to 417\n",
      "Data columns (total 11 columns):\n",
      " #   Column       Non-Null Count  Dtype  \n",
      "---  ------       --------------  -----  \n",
      " 0   PassengerId  418 non-null    int64  \n",
      " 1   Pclass       418 non-null    int64  \n",
      " 2   Name         418 non-null    object \n",
      " 3   Sex          418 non-null    object \n",
      " 4   Age          332 non-null    float64\n",
      " 5   SibSp        418 non-null    int64  \n",
      " 6   Parch        418 non-null    int64  \n",
      " 7   Ticket       418 non-null    object \n",
      " 8   Fare         417 non-null    float64\n",
      " 9   Cabin        91 non-null     object \n",
      " 10  Embarked     418 non-null    object \n",
      "dtypes: float64(2), int64(4), object(5)\n",
      "memory usage: 36.0+ KB\n"
     ]
    }
   ],
   "source": [
    "df_test = pd.read_csv(\"dados_titanic/test.csv\")\n",
    "df_test.info()"
   ]
  },
  {
   "cell_type": "code",
   "execution_count": 3,
   "metadata": {},
   "outputs": [
    {
     "data": {
      "text/html": [
       "<div>\n",
       "<style scoped>\n",
       "    .dataframe tbody tr th:only-of-type {\n",
       "        vertical-align: middle;\n",
       "    }\n",
       "\n",
       "    .dataframe tbody tr th {\n",
       "        vertical-align: top;\n",
       "    }\n",
       "\n",
       "    .dataframe thead th {\n",
       "        text-align: right;\n",
       "    }\n",
       "</style>\n",
       "<table border=\"1\" class=\"dataframe\">\n",
       "  <thead>\n",
       "    <tr style=\"text-align: right;\">\n",
       "      <th></th>\n",
       "      <th>PassengerId</th>\n",
       "      <th>Survived</th>\n",
       "      <th>Pclass</th>\n",
       "      <th>Name</th>\n",
       "      <th>Sex</th>\n",
       "      <th>Age</th>\n",
       "      <th>SibSp</th>\n",
       "      <th>Parch</th>\n",
       "      <th>Ticket</th>\n",
       "      <th>Fare</th>\n",
       "      <th>Cabin</th>\n",
       "      <th>Embarked</th>\n",
       "    </tr>\n",
       "  </thead>\n",
       "  <tbody>\n",
       "    <tr>\n",
       "      <th>0</th>\n",
       "      <td>1</td>\n",
       "      <td>0</td>\n",
       "      <td>3</td>\n",
       "      <td>Braund, Mr. Owen Harris</td>\n",
       "      <td>male</td>\n",
       "      <td>22.0</td>\n",
       "      <td>1</td>\n",
       "      <td>0</td>\n",
       "      <td>A/5 21171</td>\n",
       "      <td>7.2500</td>\n",
       "      <td>NaN</td>\n",
       "      <td>S</td>\n",
       "    </tr>\n",
       "    <tr>\n",
       "      <th>1</th>\n",
       "      <td>2</td>\n",
       "      <td>1</td>\n",
       "      <td>1</td>\n",
       "      <td>Cumings, Mrs. John Bradley (Florence Briggs Th...</td>\n",
       "      <td>female</td>\n",
       "      <td>38.0</td>\n",
       "      <td>1</td>\n",
       "      <td>0</td>\n",
       "      <td>PC 17599</td>\n",
       "      <td>71.2833</td>\n",
       "      <td>C85</td>\n",
       "      <td>C</td>\n",
       "    </tr>\n",
       "    <tr>\n",
       "      <th>2</th>\n",
       "      <td>3</td>\n",
       "      <td>1</td>\n",
       "      <td>3</td>\n",
       "      <td>Heikkinen, Miss. Laina</td>\n",
       "      <td>female</td>\n",
       "      <td>26.0</td>\n",
       "      <td>0</td>\n",
       "      <td>0</td>\n",
       "      <td>STON/O2. 3101282</td>\n",
       "      <td>7.9250</td>\n",
       "      <td>NaN</td>\n",
       "      <td>S</td>\n",
       "    </tr>\n",
       "    <tr>\n",
       "      <th>3</th>\n",
       "      <td>4</td>\n",
       "      <td>1</td>\n",
       "      <td>1</td>\n",
       "      <td>Futrelle, Mrs. Jacques Heath (Lily May Peel)</td>\n",
       "      <td>female</td>\n",
       "      <td>35.0</td>\n",
       "      <td>1</td>\n",
       "      <td>0</td>\n",
       "      <td>113803</td>\n",
       "      <td>53.1000</td>\n",
       "      <td>C123</td>\n",
       "      <td>S</td>\n",
       "    </tr>\n",
       "    <tr>\n",
       "      <th>4</th>\n",
       "      <td>5</td>\n",
       "      <td>0</td>\n",
       "      <td>3</td>\n",
       "      <td>Allen, Mr. William Henry</td>\n",
       "      <td>male</td>\n",
       "      <td>35.0</td>\n",
       "      <td>0</td>\n",
       "      <td>0</td>\n",
       "      <td>373450</td>\n",
       "      <td>8.0500</td>\n",
       "      <td>NaN</td>\n",
       "      <td>S</td>\n",
       "    </tr>\n",
       "    <tr>\n",
       "      <th>5</th>\n",
       "      <td>6</td>\n",
       "      <td>0</td>\n",
       "      <td>3</td>\n",
       "      <td>Moran, Mr. James</td>\n",
       "      <td>male</td>\n",
       "      <td>NaN</td>\n",
       "      <td>0</td>\n",
       "      <td>0</td>\n",
       "      <td>330877</td>\n",
       "      <td>8.4583</td>\n",
       "      <td>NaN</td>\n",
       "      <td>Q</td>\n",
       "    </tr>\n",
       "    <tr>\n",
       "      <th>6</th>\n",
       "      <td>7</td>\n",
       "      <td>0</td>\n",
       "      <td>1</td>\n",
       "      <td>McCarthy, Mr. Timothy J</td>\n",
       "      <td>male</td>\n",
       "      <td>54.0</td>\n",
       "      <td>0</td>\n",
       "      <td>0</td>\n",
       "      <td>17463</td>\n",
       "      <td>51.8625</td>\n",
       "      <td>E46</td>\n",
       "      <td>S</td>\n",
       "    </tr>\n",
       "    <tr>\n",
       "      <th>7</th>\n",
       "      <td>8</td>\n",
       "      <td>0</td>\n",
       "      <td>3</td>\n",
       "      <td>Palsson, Master. Gosta Leonard</td>\n",
       "      <td>male</td>\n",
       "      <td>2.0</td>\n",
       "      <td>3</td>\n",
       "      <td>1</td>\n",
       "      <td>349909</td>\n",
       "      <td>21.0750</td>\n",
       "      <td>NaN</td>\n",
       "      <td>S</td>\n",
       "    </tr>\n",
       "    <tr>\n",
       "      <th>8</th>\n",
       "      <td>9</td>\n",
       "      <td>1</td>\n",
       "      <td>3</td>\n",
       "      <td>Johnson, Mrs. Oscar W (Elisabeth Vilhelmina Berg)</td>\n",
       "      <td>female</td>\n",
       "      <td>27.0</td>\n",
       "      <td>0</td>\n",
       "      <td>2</td>\n",
       "      <td>347742</td>\n",
       "      <td>11.1333</td>\n",
       "      <td>NaN</td>\n",
       "      <td>S</td>\n",
       "    </tr>\n",
       "    <tr>\n",
       "      <th>9</th>\n",
       "      <td>10</td>\n",
       "      <td>1</td>\n",
       "      <td>2</td>\n",
       "      <td>Nasser, Mrs. Nicholas (Adele Achem)</td>\n",
       "      <td>female</td>\n",
       "      <td>14.0</td>\n",
       "      <td>1</td>\n",
       "      <td>0</td>\n",
       "      <td>237736</td>\n",
       "      <td>30.0708</td>\n",
       "      <td>NaN</td>\n",
       "      <td>C</td>\n",
       "    </tr>\n",
       "  </tbody>\n",
       "</table>\n",
       "</div>"
      ],
      "text/plain": [
       "   PassengerId  Survived  Pclass  \\\n",
       "0            1         0       3   \n",
       "1            2         1       1   \n",
       "2            3         1       3   \n",
       "3            4         1       1   \n",
       "4            5         0       3   \n",
       "5            6         0       3   \n",
       "6            7         0       1   \n",
       "7            8         0       3   \n",
       "8            9         1       3   \n",
       "9           10         1       2   \n",
       "\n",
       "                                                Name     Sex   Age  SibSp  \\\n",
       "0                            Braund, Mr. Owen Harris    male  22.0      1   \n",
       "1  Cumings, Mrs. John Bradley (Florence Briggs Th...  female  38.0      1   \n",
       "2                             Heikkinen, Miss. Laina  female  26.0      0   \n",
       "3       Futrelle, Mrs. Jacques Heath (Lily May Peel)  female  35.0      1   \n",
       "4                           Allen, Mr. William Henry    male  35.0      0   \n",
       "5                                   Moran, Mr. James    male   NaN      0   \n",
       "6                            McCarthy, Mr. Timothy J    male  54.0      0   \n",
       "7                     Palsson, Master. Gosta Leonard    male   2.0      3   \n",
       "8  Johnson, Mrs. Oscar W (Elisabeth Vilhelmina Berg)  female  27.0      0   \n",
       "9                Nasser, Mrs. Nicholas (Adele Achem)  female  14.0      1   \n",
       "\n",
       "   Parch            Ticket     Fare Cabin Embarked  \n",
       "0      0         A/5 21171   7.2500   NaN        S  \n",
       "1      0          PC 17599  71.2833   C85        C  \n",
       "2      0  STON/O2. 3101282   7.9250   NaN        S  \n",
       "3      0            113803  53.1000  C123        S  \n",
       "4      0            373450   8.0500   NaN        S  \n",
       "5      0            330877   8.4583   NaN        Q  \n",
       "6      0             17463  51.8625   E46        S  \n",
       "7      1            349909  21.0750   NaN        S  \n",
       "8      2            347742  11.1333   NaN        S  \n",
       "9      0            237736  30.0708   NaN        C  "
      ]
     },
     "execution_count": 3,
     "metadata": {},
     "output_type": "execute_result"
    }
   ],
   "source": [
    "df_train = pd.read_csv(\"dados_titanic/train.csv\")\n",
    "df_train.head(10)"
   ]
  },
  {
   "cell_type": "markdown",
   "metadata": {},
   "source": [
    "# 1. Exploratory Data Analysis"
   ]
  },
  {
   "cell_type": "code",
   "execution_count": 4,
   "metadata": {},
   "outputs": [
    {
     "name": "stdout",
     "output_type": "stream",
     "text": [
      "<class 'pandas.core.frame.DataFrame'>\n",
      "RangeIndex: 891 entries, 0 to 890\n",
      "Data columns (total 12 columns):\n",
      " #   Column       Non-Null Count  Dtype  \n",
      "---  ------       --------------  -----  \n",
      " 0   PassengerId  891 non-null    int64  \n",
      " 1   Survived     891 non-null    int64  \n",
      " 2   Pclass       891 non-null    int64  \n",
      " 3   Name         891 non-null    object \n",
      " 4   Sex          891 non-null    object \n",
      " 5   Age          714 non-null    float64\n",
      " 6   SibSp        891 non-null    int64  \n",
      " 7   Parch        891 non-null    int64  \n",
      " 8   Ticket       891 non-null    object \n",
      " 9   Fare         891 non-null    float64\n",
      " 10  Cabin        204 non-null    object \n",
      " 11  Embarked     889 non-null    object \n",
      "dtypes: float64(2), int64(5), object(5)\n",
      "memory usage: 83.7+ KB\n"
     ]
    }
   ],
   "source": [
    "df_train.info()"
   ]
  },
  {
   "cell_type": "code",
   "execution_count": 5,
   "metadata": {},
   "outputs": [
    {
     "data": {
      "text/html": [
       "<div>\n",
       "<style scoped>\n",
       "    .dataframe tbody tr th:only-of-type {\n",
       "        vertical-align: middle;\n",
       "    }\n",
       "\n",
       "    .dataframe tbody tr th {\n",
       "        vertical-align: top;\n",
       "    }\n",
       "\n",
       "    .dataframe thead th {\n",
       "        text-align: right;\n",
       "    }\n",
       "</style>\n",
       "<table border=\"1\" class=\"dataframe\">\n",
       "  <thead>\n",
       "    <tr style=\"text-align: right;\">\n",
       "      <th></th>\n",
       "      <th>PassengerId</th>\n",
       "      <th>Survived</th>\n",
       "      <th>Pclass</th>\n",
       "      <th>Age</th>\n",
       "      <th>SibSp</th>\n",
       "      <th>Parch</th>\n",
       "      <th>Fare</th>\n",
       "    </tr>\n",
       "  </thead>\n",
       "  <tbody>\n",
       "    <tr>\n",
       "      <th>count</th>\n",
       "      <td>891.000000</td>\n",
       "      <td>891.000000</td>\n",
       "      <td>891.000000</td>\n",
       "      <td>714.000000</td>\n",
       "      <td>891.000000</td>\n",
       "      <td>891.000000</td>\n",
       "      <td>891.000000</td>\n",
       "    </tr>\n",
       "    <tr>\n",
       "      <th>mean</th>\n",
       "      <td>446.000000</td>\n",
       "      <td>0.383838</td>\n",
       "      <td>2.308642</td>\n",
       "      <td>29.699118</td>\n",
       "      <td>0.523008</td>\n",
       "      <td>0.381594</td>\n",
       "      <td>32.204208</td>\n",
       "    </tr>\n",
       "    <tr>\n",
       "      <th>std</th>\n",
       "      <td>257.353842</td>\n",
       "      <td>0.486592</td>\n",
       "      <td>0.836071</td>\n",
       "      <td>14.526497</td>\n",
       "      <td>1.102743</td>\n",
       "      <td>0.806057</td>\n",
       "      <td>49.693429</td>\n",
       "    </tr>\n",
       "    <tr>\n",
       "      <th>min</th>\n",
       "      <td>1.000000</td>\n",
       "      <td>0.000000</td>\n",
       "      <td>1.000000</td>\n",
       "      <td>0.420000</td>\n",
       "      <td>0.000000</td>\n",
       "      <td>0.000000</td>\n",
       "      <td>0.000000</td>\n",
       "    </tr>\n",
       "    <tr>\n",
       "      <th>25%</th>\n",
       "      <td>223.500000</td>\n",
       "      <td>0.000000</td>\n",
       "      <td>2.000000</td>\n",
       "      <td>20.125000</td>\n",
       "      <td>0.000000</td>\n",
       "      <td>0.000000</td>\n",
       "      <td>7.910400</td>\n",
       "    </tr>\n",
       "    <tr>\n",
       "      <th>50%</th>\n",
       "      <td>446.000000</td>\n",
       "      <td>0.000000</td>\n",
       "      <td>3.000000</td>\n",
       "      <td>28.000000</td>\n",
       "      <td>0.000000</td>\n",
       "      <td>0.000000</td>\n",
       "      <td>14.454200</td>\n",
       "    </tr>\n",
       "    <tr>\n",
       "      <th>75%</th>\n",
       "      <td>668.500000</td>\n",
       "      <td>1.000000</td>\n",
       "      <td>3.000000</td>\n",
       "      <td>38.000000</td>\n",
       "      <td>1.000000</td>\n",
       "      <td>0.000000</td>\n",
       "      <td>31.000000</td>\n",
       "    </tr>\n",
       "    <tr>\n",
       "      <th>max</th>\n",
       "      <td>891.000000</td>\n",
       "      <td>1.000000</td>\n",
       "      <td>3.000000</td>\n",
       "      <td>80.000000</td>\n",
       "      <td>8.000000</td>\n",
       "      <td>6.000000</td>\n",
       "      <td>512.329200</td>\n",
       "    </tr>\n",
       "  </tbody>\n",
       "</table>\n",
       "</div>"
      ],
      "text/plain": [
       "       PassengerId    Survived      Pclass         Age       SibSp  \\\n",
       "count   891.000000  891.000000  891.000000  714.000000  891.000000   \n",
       "mean    446.000000    0.383838    2.308642   29.699118    0.523008   \n",
       "std     257.353842    0.486592    0.836071   14.526497    1.102743   \n",
       "min       1.000000    0.000000    1.000000    0.420000    0.000000   \n",
       "25%     223.500000    0.000000    2.000000   20.125000    0.000000   \n",
       "50%     446.000000    0.000000    3.000000   28.000000    0.000000   \n",
       "75%     668.500000    1.000000    3.000000   38.000000    1.000000   \n",
       "max     891.000000    1.000000    3.000000   80.000000    8.000000   \n",
       "\n",
       "            Parch        Fare  \n",
       "count  891.000000  891.000000  \n",
       "mean     0.381594   32.204208  \n",
       "std      0.806057   49.693429  \n",
       "min      0.000000    0.000000  \n",
       "25%      0.000000    7.910400  \n",
       "50%      0.000000   14.454200  \n",
       "75%      0.000000   31.000000  \n",
       "max      6.000000  512.329200  "
      ]
     },
     "execution_count": 5,
     "metadata": {},
     "output_type": "execute_result"
    }
   ],
   "source": [
    "df_train.describe()"
   ]
  },
  {
   "cell_type": "markdown",
   "metadata": {},
   "source": [
    "## 1.1 checking who survived"
   ]
  },
  {
   "cell_type": "markdown",
   "metadata": {},
   "source": [
    "### 1.1.1 by gender"
   ]
  },
  {
   "cell_type": "code",
   "execution_count": 6,
   "metadata": {},
   "outputs": [
    {
     "data": {
      "text/plain": [
       "Sex     Survived\n",
       "female  1           0.742038\n",
       "        0           0.257962\n",
       "male    0           0.811092\n",
       "        1           0.188908\n",
       "Name: Survived, dtype: float64"
      ]
     },
     "execution_count": 6,
     "metadata": {},
     "output_type": "execute_result"
    }
   ],
   "source": [
    "df_train.groupby(['Sex'])['Survived'].value_counts(normalize = True)"
   ]
  },
  {
   "cell_type": "code",
   "execution_count": null,
   "metadata": {},
   "outputs": [],
   "source": []
  },
  {
   "cell_type": "code",
   "execution_count": 7,
   "metadata": {},
   "outputs": [
    {
     "name": "stdout",
     "output_type": "stream",
     "text": [
      "577\n",
      "314\n",
      "109\n",
      "233\n"
     ]
    },
    {
     "data": {
      "image/png": "[encoded data removed]",
      "text/plain": [
       "<Figure size 648x432 with 1 Axes>"
      ]
     },
     "metadata": {
      "needs_background": "light"
     },
     "output_type": "display_data"
    }
   ],
   "source": [
    "labels = df_train['Sex'].unique()\n",
    "n_total = df_train['Sex'].value_counts() \n",
    "n_surv = df_train[['Sex','Survived']].groupby(['Sex'], as_index = False).sum().sort_values(by='Survived', ascending=True)['Survived']\n",
    "\n",
    "x = np.arange(len(labels))  # the label locations\n",
    "width = 0.35  # the width of the bars\n",
    "\n",
    "fig, ax = plt.subplots()\n",
    "rects1 = ax.bar(x - width/2, n_total, width, label='Total')\n",
    "rects2 = ax.bar(x + width/2, n_surv, width, label='Survivors')\n",
    "\n",
    "ax.set_ylabel('no. of passengers', fontsize = 12)\n",
    "ax.set_title('Total and survivors by Gender', fontsize = 16)\n",
    "ax.set_xticks(x)\n",
    "ax.set_xticklabels(labels, fontsize = 12)\n",
    "ax.legend()\n",
    "\n",
    "def autolabel(rects):\n",
    "    for rect in rects:\n",
    "        height = rect.get_height()\n",
    "        ax.annotate(f'{height}',\n",
    "                    xy=(rect.get_x() + rect.get_width() / 2, height-30),\n",
    "                    xytext=(0, 3),  # 3 points vertical offset\n",
    "                    textcoords=\"offset points\",\n",
    "                    ha='center', va='bottom')\n",
    "        print(height)\n",
    "\n",
    "\n",
    "autolabel(rects1)\n",
    "autolabel(rects2)\n",
    "\n",
    "fig.tight_layout()\n",
    "fig.set_size_inches(9,6)\n",
    "plt.show()"
   ]
  },
  {
   "cell_type": "code",
   "execution_count": null,
   "metadata": {},
   "outputs": [],
   "source": []
  },
  {
   "cell_type": "markdown",
   "metadata": {},
   "source": [
    "##### With the data displayed above is clear that women had more chances to survive this tragedy. probably due the \"Women and children first\" code of conduct. So in this analysis we should also be examining the children's survival rate. "
   ]
  },
  {
   "cell_type": "markdown",
   "metadata": {},
   "source": [
    "### 1.1.2 by Ticket class"
   ]
  },
  {
   "cell_type": "code",
   "execution_count": 8,
   "metadata": {},
   "outputs": [
    {
     "data": {
      "text/html": [
       "<div>\n",
       "<style scoped>\n",
       "    .dataframe tbody tr th:only-of-type {\n",
       "        vertical-align: middle;\n",
       "    }\n",
       "\n",
       "    .dataframe tbody tr th {\n",
       "        vertical-align: top;\n",
       "    }\n",
       "\n",
       "    .dataframe thead th {\n",
       "        text-align: right;\n",
       "    }\n",
       "</style>\n",
       "<table border=\"1\" class=\"dataframe\">\n",
       "  <thead>\n",
       "    <tr style=\"text-align: right;\">\n",
       "      <th></th>\n",
       "      <th>Pclass</th>\n",
       "      <th>Survived</th>\n",
       "    </tr>\n",
       "  </thead>\n",
       "  <tbody>\n",
       "    <tr>\n",
       "      <th>0</th>\n",
       "      <td>1</td>\n",
       "      <td>136</td>\n",
       "    </tr>\n",
       "    <tr>\n",
       "      <th>1</th>\n",
       "      <td>2</td>\n",
       "      <td>87</td>\n",
       "    </tr>\n",
       "    <tr>\n",
       "      <th>2</th>\n",
       "      <td>3</td>\n",
       "      <td>119</td>\n",
       "    </tr>\n",
       "  </tbody>\n",
       "</table>\n",
       "</div>"
      ],
      "text/plain": [
       "   Pclass  Survived\n",
       "0       1       136\n",
       "1       2        87\n",
       "2       3       119"
      ]
     },
     "execution_count": 8,
     "metadata": {},
     "output_type": "execute_result"
    }
   ],
   "source": [
    "df_train[['Pclass','Survived']].groupby(['Pclass'], as_index = False).sum()"
   ]
  },
  {
   "cell_type": "code",
   "execution_count": 9,
   "metadata": {},
   "outputs": [
    {
     "data": {
      "image/png": "[encoded data removed]",
      "text/plain": [
       "<Figure size 648x432 with 1 Axes>"
      ]
     },
     "metadata": {
      "needs_background": "light"
     },
     "output_type": "display_data"
    }
   ],
   "source": [
    "n_total_c1 = df_train.query('Pclass == 1')['Survived'].value_counts().sum()\n",
    "n_total_c2 = df_train.query('Pclass == 2')['Survived'].value_counts().sum()\n",
    "n_total_c3 = df_train.query('Pclass == 3')['Survived'].value_counts().sum()\n",
    "\n",
    "\n",
    "labels = ['First class', 'Second class', 'Third class']\n",
    "n_total = [n_total_c1, n_total_c2, n_total_c3]\n",
    "n_surv = df_train[['Pclass','Survived']].groupby(['Pclass'], as_index = False).sum()['Survived'].sort_values(ascending = False)          \n",
    "\n",
    "x = np.arange(len(labels))\n",
    "width = 0.35\n",
    "\n",
    "fig, ax = plt.subplots()\n",
    "rects1 = ax.bar(x - width/2, n_total, width, label='Total')\n",
    "rects2 = ax.bar(x + width/2, n_surv, width, label='Survivors')\n",
    "\n",
    "\n",
    "ax.set_ylabel('no. of passengers', fontsize = 12)\n",
    "ax.set_title('Total and Survivors by Pclass', fontsize = 16)\n",
    "ax.set_xticks(x)\n",
    "ax.set_xticklabels(labels, fontsize = 12)\n",
    "ax.legend()\n",
    "\n",
    "def autolabel(rects):\n",
    "    for rect in rects:\n",
    "        height = rect.get_height()\n",
    "        ax.annotate('{}'.format(height),\n",
    "                    xy=(rect.get_x() + rect.get_width() / 2, height-30),\n",
    "                    xytext=(0, 3),  # 3 points vertical offset\n",
    "                    textcoords=\"offset points\",\n",
    "                    ha='center', va='bottom')\n",
    "\n",
    "\n",
    "autolabel(rects1)\n",
    "autolabel(rects2)\n",
    "\n",
    "fig.tight_layout()\n",
    "fig.set_size_inches(9,6)\n",
    "\n",
    "plt.show()"
   ]
  },
  {
   "cell_type": "markdown",
   "metadata": {},
   "source": [
    "### 1.1.3 by Embarked (Feature with 2 missing values)"
   ]
  },
  {
   "cell_type": "code",
   "execution_count": 10,
   "metadata": {},
   "outputs": [
    {
     "data": {
      "image/png": "[encoded data removed]",
      "text/plain": [
       "<Figure size 648x432 with 1 Axes>"
      ]
     },
     "metadata": {
      "needs_background": "light"
     },
     "output_type": "display_data"
    }
   ],
   "source": [
    "labels = ['S', 'C', 'Q']\n",
    "n_total = df_train['Embarked'].value_counts()\n",
    "n_surv = df_train[['Embarked','Survived']].groupby(['Embarked'], sort = False, as_index = True).sum()['Survived']\n",
    "x = np.arange(len(labels))\n",
    "width = 0.35\n",
    "\n",
    "fig, ax = plt.subplots()\n",
    "rects1 = ax.bar(x - width/2, n_total, width, label='Total')\n",
    "rects2 = ax.bar(x + width/2, n_surv, width, label='Survivors')\n",
    "\n",
    "\n",
    "ax.set_ylabel('no. of passengers', fontsize = 12)\n",
    "ax.set_title('Total and Survivors by Embarked', fontsize = 16)\n",
    "ax.set_xticks(x)\n",
    "ax.set_xticklabels(labels, fontsize = 12)\n",
    "ax.legend()\n",
    "\n",
    "def autolabel(rects):\n",
    "    for rect in rects:\n",
    "        height = rect.get_height()\n",
    "        ax.annotate(f'{height}',\n",
    "                    xy=(rect.get_x() + rect.get_width() / 2, height-30),\n",
    "                    xytext=(0, 3),  # 3 points vertical offset\n",
    "                    textcoords=\"offset points\",\n",
    "                    ha='center', va='bottom')\n",
    "\n",
    "\n",
    "autolabel(rects1)\n",
    "autolabel(rects2)\n",
    "\n",
    "fig.tight_layout()\n",
    "fig.set_size_inches(9,6)\n",
    "\n",
    "plt.show()"
   ]
  },
  {
   "cell_type": "code",
   "execution_count": 11,
   "metadata": {},
   "outputs": [
    {
     "data": {
      "text/html": [
       "<div>\n",
       "<style scoped>\n",
       "    .dataframe tbody tr th:only-of-type {\n",
       "        vertical-align: middle;\n",
       "    }\n",
       "\n",
       "    .dataframe tbody tr th {\n",
       "        vertical-align: top;\n",
       "    }\n",
       "\n",
       "    .dataframe thead th {\n",
       "        text-align: right;\n",
       "    }\n",
       "</style>\n",
       "<table border=\"1\" class=\"dataframe\">\n",
       "  <thead>\n",
       "    <tr style=\"text-align: right;\">\n",
       "      <th></th>\n",
       "      <th>Embarked</th>\n",
       "      <th>Survived</th>\n",
       "      <th>Total</th>\n",
       "      <th>Survived %</th>\n",
       "    </tr>\n",
       "  </thead>\n",
       "  <tbody>\n",
       "    <tr>\n",
       "      <th>0</th>\n",
       "      <td>S</td>\n",
       "      <td>217</td>\n",
       "      <td>644</td>\n",
       "      <td>33.695652</td>\n",
       "    </tr>\n",
       "    <tr>\n",
       "      <th>1</th>\n",
       "      <td>C</td>\n",
       "      <td>93</td>\n",
       "      <td>168</td>\n",
       "      <td>55.357143</td>\n",
       "    </tr>\n",
       "    <tr>\n",
       "      <th>2</th>\n",
       "      <td>Q</td>\n",
       "      <td>30</td>\n",
       "      <td>77</td>\n",
       "      <td>38.961039</td>\n",
       "    </tr>\n",
       "  </tbody>\n",
       "</table>\n",
       "</div>"
      ],
      "text/plain": [
       "  Embarked  Survived  Total  Survived %\n",
       "0        S       217    644   33.695652\n",
       "1        C        93    168   55.357143\n",
       "2        Q        30     77   38.961039"
      ]
     },
     "execution_count": 11,
     "metadata": {},
     "output_type": "execute_result"
    }
   ],
   "source": [
    "df_Embarked = df_train[['Embarked','Survived']].groupby(['Embarked'], sort = False, as_index = False).sum()\n",
    "df_Embarked['Total'] = np.array(df_train['Embarked'].value_counts())\n",
    "df_Embarked['Survived %'] = (df_Embarked['Survived']/df_Embarked['Total']*100 )\n",
    "df_Embarked"
   ]
  },
  {
   "cell_type": "markdown",
   "metadata": {},
   "source": [
    "####  As we can see, passengers from C (Cherbourg) port had better suvival rate while the ones from S and Q had very similar rates, although there is a big difference in passenger quantity. Lets look from another angle."
   ]
  },
  {
   "cell_type": "code",
   "execution_count": 12,
   "metadata": {},
   "outputs": [
    {
     "data": {
      "text/plain": [
       "<function matplotlib.pyplot.show(*args, **kw)>"
      ]
     },
     "execution_count": 12,
     "metadata": {},
     "output_type": "execute_result"
    },
    {
     "data": {
      "image/png": "[encoded data removed]",
      "text/plain": [
       "<Figure size 1440x576 with 2 Axes>"
      ]
     },
     "metadata": {
      "needs_background": "light"
     },
     "output_type": "display_data"
    }
   ],
   "source": [
    "f,ax = plt.subplots(1,2, figsize = (20,8))\n",
    "sns.countplot('Embarked', hue = 'Pclass', data = df_train, ax = ax[0])\n",
    "ax[0].set_title('Embarked and Pclass', fontsize = 18)\n",
    "ax[0].legend(['First','Second','Third'])\n",
    "\n",
    "sns.countplot('Embarked', hue = 'Sex', data = df_train, ax = ax[1])\n",
    "ax[1].set_title('Embarked and Gender', fontsize = 18)\n",
    "plt.subplots_adjust(wspace = 0.2, hspace = 0.5)\n",
    "plt.show"
   ]
  },
  {
   "cell_type": "markdown",
   "metadata": {},
   "source": [
    "#### Now we can understand that the majority of passengers from C are in the first class, this fact could explain this group's unusual survival rate because we already discovered that passengers in the first class had better survival rate. also notice that there are more first class passengers from port S, but the survival rate of this group wasn't so high, probably due to the ratio of passengers in second and, specialy, third class."
   ]
  },
  {
   "cell_type": "markdown",
   "metadata": {},
   "source": [
    "### 1.1.4 by Age (Feature with 177 missing values)"
   ]
  },
  {
   "cell_type": "code",
   "execution_count": 13,
   "metadata": {},
   "outputs": [
    {
     "data": {
      "text/html": [
       "<style  type=\"text/css\" >\n",
       "    #T_ec810dd8_a043_11ea_8664_704d7bcef095row0_col0 {\n",
       "            background-color:  #023858;\n",
       "            color:  #f1f1f1;\n",
       "        }    #T_ec810dd8_a043_11ea_8664_704d7bcef095row1_col0 {\n",
       "            background-color:  #a8bedc;\n",
       "            color:  #000000;\n",
       "        }    #T_ec810dd8_a043_11ea_8664_704d7bcef095row2_col0 {\n",
       "            background-color:  #fff7fb;\n",
       "            color:  #000000;\n",
       "        }    #T_ec810dd8_a043_11ea_8664_704d7bcef095row3_col0 {\n",
       "            background-color:  #f9f2f8;\n",
       "            color:  #000000;\n",
       "        }    #T_ec810dd8_a043_11ea_8664_704d7bcef095row4_col0 {\n",
       "            background-color:  #cdd0e5;\n",
       "            color:  #000000;\n",
       "        }    #T_ec810dd8_a043_11ea_8664_704d7bcef095row5_col0 {\n",
       "            background-color:  #c0c9e2;\n",
       "            color:  #000000;\n",
       "        }    #T_ec810dd8_a043_11ea_8664_704d7bcef095row6_col0 {\n",
       "            background-color:  #c0c9e2;\n",
       "            color:  #000000;\n",
       "        }    #T_ec810dd8_a043_11ea_8664_704d7bcef095row7_col0 {\n",
       "            background-color:  #89b1d4;\n",
       "            color:  #000000;\n",
       "        }    #T_ec810dd8_a043_11ea_8664_704d7bcef095row8_col0 {\n",
       "            background-color:  #589ec8;\n",
       "            color:  #000000;\n",
       "        }    #T_ec810dd8_a043_11ea_8664_704d7bcef095row9_col0 {\n",
       "            background-color:  #d5d5e8;\n",
       "            color:  #000000;\n",
       "        }    #T_ec810dd8_a043_11ea_8664_704d7bcef095row10_col0 {\n",
       "            background-color:  #bdc8e1;\n",
       "            color:  #000000;\n",
       "        }    #T_ec810dd8_a043_11ea_8664_704d7bcef095row11_col0 {\n",
       "            background-color:  #e4e1ef;\n",
       "            color:  #000000;\n",
       "        }</style><table id=\"T_ec810dd8_a043_11ea_8664_704d7bcef095\" ><thead>    <tr>        <th class=\"blank level0\" ></th>        <th class=\"col_heading level0 col0\" >Survived</th>    </tr>    <tr>        <th class=\"index_name level0\" >Age_Surv</th>        <th class=\"blank\" ></th>    </tr></thead><tbody>\n",
       "                <tr>\n",
       "                        <th id=\"T_ec810dd8_a043_11ea_8664_704d7bcef095level0_row0\" class=\"row_heading level0 row0\" >(0.419, 9.0]</th>\n",
       "                        <td id=\"T_ec810dd8_a043_11ea_8664_704d7bcef095row0_col0\" class=\"data row0 col0\" >0.612903</td>\n",
       "            </tr>\n",
       "            <tr>\n",
       "                        <th id=\"T_ec810dd8_a043_11ea_8664_704d7bcef095level0_row1\" class=\"row_heading level0 row1\" >(9.0, 18.0]</th>\n",
       "                        <td id=\"T_ec810dd8_a043_11ea_8664_704d7bcef095row1_col0\" class=\"data row1 col0\" >0.415584</td>\n",
       "            </tr>\n",
       "            <tr>\n",
       "                        <th id=\"T_ec810dd8_a043_11ea_8664_704d7bcef095level0_row2\" class=\"row_heading level0 row2\" >(18.0, 20.125]</th>\n",
       "                        <td id=\"T_ec810dd8_a043_11ea_8664_704d7bcef095row2_col0\" class=\"data row2 col0\" >0.300000</td>\n",
       "            </tr>\n",
       "            <tr>\n",
       "                        <th id=\"T_ec810dd8_a043_11ea_8664_704d7bcef095level0_row3\" class=\"row_heading level0 row3\" >(20.125, 23.0]</th>\n",
       "                        <td id=\"T_ec810dd8_a043_11ea_8664_704d7bcef095row3_col0\" class=\"data row3 col0\" >0.313433</td>\n",
       "            </tr>\n",
       "            <tr>\n",
       "                        <th id=\"T_ec810dd8_a043_11ea_8664_704d7bcef095level0_row4\" class=\"row_heading level0 row4\" >(23.0, 25.0]</th>\n",
       "                        <td id=\"T_ec810dd8_a043_11ea_8664_704d7bcef095row4_col0\" class=\"data row4 col0\" >0.381818</td>\n",
       "            </tr>\n",
       "            <tr>\n",
       "                        <th id=\"T_ec810dd8_a043_11ea_8664_704d7bcef095level0_row5\" class=\"row_heading level0 row5\" >(25.0, 28.0]</th>\n",
       "                        <td id=\"T_ec810dd8_a043_11ea_8664_704d7bcef095row5_col0\" class=\"data row5 col0\" >0.393443</td>\n",
       "            </tr>\n",
       "            <tr>\n",
       "                        <th id=\"T_ec810dd8_a043_11ea_8664_704d7bcef095level0_row6\" class=\"row_heading level0 row6\" >(28.0, 31.0]</th>\n",
       "                        <td id=\"T_ec810dd8_a043_11ea_8664_704d7bcef095row6_col0\" class=\"data row6 col0\" >0.393939</td>\n",
       "            </tr>\n",
       "            <tr>\n",
       "                        <th id=\"T_ec810dd8_a043_11ea_8664_704d7bcef095level0_row7\" class=\"row_heading level0 row7\" >(31.0, 34.0]</th>\n",
       "                        <td id=\"T_ec810dd8_a043_11ea_8664_704d7bcef095row7_col0\" class=\"data row7 col0\" >0.440000</td>\n",
       "            </tr>\n",
       "            <tr>\n",
       "                        <th id=\"T_ec810dd8_a043_11ea_8664_704d7bcef095level0_row8\" class=\"row_heading level0 row8\" >(34.0, 38.0]</th>\n",
       "                        <td id=\"T_ec810dd8_a043_11ea_8664_704d7bcef095row8_col0\" class=\"data row8 col0\" >0.474576</td>\n",
       "            </tr>\n",
       "            <tr>\n",
       "                        <th id=\"T_ec810dd8_a043_11ea_8664_704d7bcef095level0_row9\" class=\"row_heading level0 row9\" >(38.0, 44.0]</th>\n",
       "                        <td id=\"T_ec810dd8_a043_11ea_8664_704d7bcef095row9_col0\" class=\"data row9 col0\" >0.370968</td>\n",
       "            </tr>\n",
       "            <tr>\n",
       "                        <th id=\"T_ec810dd8_a043_11ea_8664_704d7bcef095level0_row10\" class=\"row_heading level0 row10\" >(44.0, 51.0]</th>\n",
       "                        <td id=\"T_ec810dd8_a043_11ea_8664_704d7bcef095row10_col0\" class=\"data row10 col0\" >0.396552</td>\n",
       "            </tr>\n",
       "            <tr>\n",
       "                        <th id=\"T_ec810dd8_a043_11ea_8664_704d7bcef095level0_row11\" class=\"row_heading level0 row11\" >(51.0, 80.0]</th>\n",
       "                        <td id=\"T_ec810dd8_a043_11ea_8664_704d7bcef095row11_col0\" class=\"data row11 col0\" >0.350877</td>\n",
       "            </tr>\n",
       "    </tbody></table>"
      ],
      "text/plain": [
       "<pandas.io.formats.style.Styler at 0x216729ba4c8>"
      ]
     },
     "execution_count": 13,
     "metadata": {},
     "output_type": "execute_result"
    }
   ],
   "source": [
    "df_train['Age_Surv']=pd.qcut(df_train['Age'],12)\n",
    "df_train.groupby(['Age_Surv'])['Survived'].mean().to_frame().style.background_gradient(cmap='PuBu')"
   ]
  },
  {
   "cell_type": "code",
   "execution_count": 14,
   "metadata": {},
   "outputs": [
    {
     "data": {
      "text/plain": [
       "Text(0, 0.5, 'Frequency')"
      ]
     },
     "execution_count": 14,
     "metadata": {},
     "output_type": "execute_result"
    },
    {
     "data": {
      "image/png": "[encoded data removed]",
      "text/plain": [
       "<Figure size 936x504 with 1 Axes>"
      ]
     },
     "metadata": {
      "needs_background": "light"
     },
     "output_type": "display_data"
    }
   ],
   "source": [
    "fig = plt.figure(figsize=(13,7),)\n",
    "ax = sns.kdeplot(df_train.loc[(df_train['Survived'] == 1),'Age'], color = 'r', \n",
    "                shade = True, label = 'Survived = 1')\n",
    "ax = sns.kdeplot(df_train.loc[(df_train['Survived'] == 0),'Age'], color = 'green', \n",
    "                shade = True, label = 'Survived = 0')\n",
    "ax.set_title('Distribution of survivors by Age', fontsize = 16)\n",
    "plt.xlabel('Age', fontsize = 12)\n",
    "plt.ylabel('Frequency', fontsize = 12)"
   ]
  },
  {
   "cell_type": "code",
   "execution_count": 15,
   "metadata": {},
   "outputs": [
    {
     "data": {
      "image/png": "[encoded data removed]",
      "text/plain": [
       "<Figure size 936x504 with 1 Axes>"
      ]
     },
     "metadata": {
      "needs_background": "light"
     },
     "output_type": "display_data"
    }
   ],
   "source": [
    "plt.figure(figsize = (13,7))\n",
    "plt.hist(df_train['Age'], bins = np.arange(df_train['Age'].min(),df_train['Age'].max(),5),\n",
    "              density = True, edgecolor = 'black')\n",
    "\n",
    "plt.title('Density curves over distribution of Age', fontsize = 16)\n",
    "plt.xlabel('Age', fontsize = 12)\n",
    "plt.ylabel('Frequency', fontsize = 12)\n",
    "\n",
    "ax = sns.kdeplot(df_train.loc[(df_train['Survived'] == 1),'Age'], \n",
    "               color='r',\n",
    "               shade=False,\n",
    "              linewidth=5)\n",
    "\n",
    "ax = sns.kdeplot(df_train.loc[(df_train['Survived'] == 0),'Age'], \n",
    "               color='lawngreen',\n",
    "               shade=False,\n",
    "              linewidth=5)\n",
    "\n",
    "plt.tick_params(top='off', right='off')\n",
    "plt.legend(['Survived = 1','Survived = 0','Distribution of Age'])\n",
    "plt.show()\n",
    "\n"
   ]
  },
  {
   "cell_type": "markdown",
   "metadata": {},
   "source": [
    "#### As we can see in the charts above, the distribution of \"survivors by Age\" pretty much follows the distribution of Age itself. One interestig point is that passengers with age from 0 to 15 seems to have better chances. We must remember that this feature still contains missing values, so this behavior can change."
   ]
  },
  {
   "cell_type": "markdown",
   "metadata": {},
   "source": [
    "### 1.1.5 by Family size"
   ]
  },
  {
   "cell_type": "markdown",
   "metadata": {},
   "source": [
    "#### For this exploration lets take a step further into the data analysis pipeline and use a little bit of \"Feature Engineering\" to create a new feature called \"Family\", wich will be the sum of other two features: SibSp and Parch.  "
   ]
  },
  {
   "cell_type": "code",
   "execution_count": null,
   "metadata": {},
   "outputs": [],
   "source": []
  },
  {
   "cell_type": "code",
   "execution_count": 16,
   "metadata": {},
   "outputs": [
    {
     "data": {
      "text/html": [
       "<div>\n",
       "<style scoped>\n",
       "    .dataframe tbody tr th:only-of-type {\n",
       "        vertical-align: middle;\n",
       "    }\n",
       "\n",
       "    .dataframe tbody tr th {\n",
       "        vertical-align: top;\n",
       "    }\n",
       "\n",
       "    .dataframe thead th {\n",
       "        text-align: right;\n",
       "    }\n",
       "</style>\n",
       "<table border=\"1\" class=\"dataframe\">\n",
       "  <thead>\n",
       "    <tr style=\"text-align: right;\">\n",
       "      <th></th>\n",
       "      <th>Family</th>\n",
       "      <th>Survived</th>\n",
       "    </tr>\n",
       "  </thead>\n",
       "  <tbody>\n",
       "    <tr>\n",
       "      <th>0</th>\n",
       "      <td>1</td>\n",
       "      <td>0</td>\n",
       "    </tr>\n",
       "    <tr>\n",
       "      <th>1</th>\n",
       "      <td>1</td>\n",
       "      <td>1</td>\n",
       "    </tr>\n",
       "    <tr>\n",
       "      <th>2</th>\n",
       "      <td>0</td>\n",
       "      <td>1</td>\n",
       "    </tr>\n",
       "    <tr>\n",
       "      <th>3</th>\n",
       "      <td>1</td>\n",
       "      <td>1</td>\n",
       "    </tr>\n",
       "    <tr>\n",
       "      <th>4</th>\n",
       "      <td>0</td>\n",
       "      <td>0</td>\n",
       "    </tr>\n",
       "  </tbody>\n",
       "</table>\n",
       "</div>"
      ],
      "text/plain": [
       "   Family  Survived\n",
       "0       1         0\n",
       "1       1         1\n",
       "2       0         1\n",
       "3       1         1\n",
       "4       0         0"
      ]
     },
     "execution_count": 16,
     "metadata": {},
     "output_type": "execute_result"
    }
   ],
   "source": [
    "df_Family = pd.DataFrame()\n",
    "df_Family['Family'] = df_train['SibSp'] + df_train['Parch']\n",
    "df_Family['Survived'] = df_train['Survived']\n",
    "df_Family.head()"
   ]
  },
  {
   "cell_type": "code",
   "execution_count": 17,
   "metadata": {},
   "outputs": [
    {
     "data": {
      "text/html": [
       "<div>\n",
       "<style scoped>\n",
       "    .dataframe tbody tr th:only-of-type {\n",
       "        vertical-align: middle;\n",
       "    }\n",
       "\n",
       "    .dataframe tbody tr th {\n",
       "        vertical-align: top;\n",
       "    }\n",
       "\n",
       "    .dataframe thead th {\n",
       "        text-align: right;\n",
       "    }\n",
       "</style>\n",
       "<table border=\"1\" class=\"dataframe\">\n",
       "  <thead>\n",
       "    <tr style=\"text-align: right;\">\n",
       "      <th></th>\n",
       "      <th>Family</th>\n",
       "      <th>Survived</th>\n",
       "    </tr>\n",
       "  </thead>\n",
       "  <tbody>\n",
       "    <tr>\n",
       "      <th>0</th>\n",
       "      <td>0</td>\n",
       "      <td>163</td>\n",
       "    </tr>\n",
       "    <tr>\n",
       "      <th>1</th>\n",
       "      <td>1</td>\n",
       "      <td>89</td>\n",
       "    </tr>\n",
       "    <tr>\n",
       "      <th>2</th>\n",
       "      <td>2</td>\n",
       "      <td>59</td>\n",
       "    </tr>\n",
       "    <tr>\n",
       "      <th>3</th>\n",
       "      <td>3</td>\n",
       "      <td>21</td>\n",
       "    </tr>\n",
       "    <tr>\n",
       "      <th>4</th>\n",
       "      <td>4</td>\n",
       "      <td>3</td>\n",
       "    </tr>\n",
       "    <tr>\n",
       "      <th>5</th>\n",
       "      <td>5</td>\n",
       "      <td>3</td>\n",
       "    </tr>\n",
       "    <tr>\n",
       "      <th>6</th>\n",
       "      <td>6</td>\n",
       "      <td>4</td>\n",
       "    </tr>\n",
       "    <tr>\n",
       "      <th>7</th>\n",
       "      <td>7</td>\n",
       "      <td>0</td>\n",
       "    </tr>\n",
       "    <tr>\n",
       "      <th>8</th>\n",
       "      <td>10</td>\n",
       "      <td>0</td>\n",
       "    </tr>\n",
       "  </tbody>\n",
       "</table>\n",
       "</div>"
      ],
      "text/plain": [
       "   Family  Survived\n",
       "0       0       163\n",
       "1       1        89\n",
       "2       2        59\n",
       "3       3        21\n",
       "4       4         3\n",
       "5       5         3\n",
       "6       6         4\n",
       "7       7         0\n",
       "8      10         0"
      ]
     },
     "execution_count": 17,
     "metadata": {},
     "output_type": "execute_result"
    }
   ],
   "source": [
    "df_Family[['Family','Survived']].groupby(['Family'], as_index = False).sum()"
   ]
  },
  {
   "cell_type": "code",
   "execution_count": 18,
   "metadata": {},
   "outputs": [
    {
     "data": {
      "text/plain": [
       "Text(0.5, 1.0, 'Family by percentage of survivors')"
      ]
     },
     "execution_count": 18,
     "metadata": {},
     "output_type": "execute_result"
    },
    {
     "data": {
      "image/png": "[encoded data removed]",
      "text/plain": [
       "<Figure size 936x792 with 2 Axes>"
      ]
     },
     "metadata": {
      "needs_background": "light"
     },
     "output_type": "display_data"
    }
   ],
   "source": [
    "f, (ax1, ax2) = plt.subplots(2, 1, figsize=(13, 11), sharex=False)\n",
    "ax1 = sns.barplot(x = df_Family['Family'].sort_values().unique(),\n",
    "                y = df_Family[['Family','Survived']].groupby(['Family'], as_index = False).sum()['Survived'],            \n",
    "                palette = 'GnBu_d', ax = ax1)\n",
    "ax1.set_ylabel('Survivors', fontsize = 14)\n",
    "ax1.set_title('Family by quantity of survivors', fontsize = 16)\n",
    "\n",
    "ax1 = sns.barplot(x = df_Family['Family'].sort_values().unique(),\n",
    "                y = df_Family[['Family','Survived']].groupby(['Family'], as_index = False).mean()['Survived'],            \n",
    "                palette = 'GnBu_d', ax = ax2)\n",
    "ax2.set_ylabel('Survivors %', fontsize = 14)\n",
    "ax2.set_title('Family by percentage of survivors', fontsize = 16)"
   ]
  },
  {
   "cell_type": "markdown",
   "metadata": {},
   "source": [
    "#### so, with these bar plots we can see some interesting facts:\n",
    "#### 1: No passengers with 7 or more relatives aboard survived.\n",
    "#### 2: Passengers with 1, 2 or 3 relatives aboard had better survival rates than any other groups, followed by 6 and 0.\n",
    "#### 3: Using percentages can be crucial to a good understanding of this kind of data. the difference between sample sizes can lead us to a poor understanding of reality. on the other hand, categories with small population can generate bias in the percentage based conclusions."
   ]
  },
  {
   "cell_type": "markdown",
   "metadata": {},
   "source": [
    "### 1.2 Checking feature's correlations"
   ]
  },
  {
   "cell_type": "code",
   "execution_count": 19,
   "metadata": {},
   "outputs": [
    {
     "data": {
      "text/html": [
       "<div>\n",
       "<style scoped>\n",
       "    .dataframe tbody tr th:only-of-type {\n",
       "        vertical-align: middle;\n",
       "    }\n",
       "\n",
       "    .dataframe tbody tr th {\n",
       "        vertical-align: top;\n",
       "    }\n",
       "\n",
       "    .dataframe thead th {\n",
       "        text-align: right;\n",
       "    }\n",
       "</style>\n",
       "<table border=\"1\" class=\"dataframe\">\n",
       "  <thead>\n",
       "    <tr style=\"text-align: right;\">\n",
       "      <th></th>\n",
       "      <th>Survived</th>\n",
       "      <th>Pclass</th>\n",
       "      <th>Parch</th>\n",
       "      <th>Age</th>\n",
       "      <th>Fare</th>\n",
       "    </tr>\n",
       "  </thead>\n",
       "  <tbody>\n",
       "    <tr>\n",
       "      <th>Survived</th>\n",
       "      <td>1.000000</td>\n",
       "      <td>-0.338481</td>\n",
       "      <td>0.081629</td>\n",
       "      <td>-0.077221</td>\n",
       "      <td>0.257307</td>\n",
       "    </tr>\n",
       "    <tr>\n",
       "      <th>Pclass</th>\n",
       "      <td>-0.338481</td>\n",
       "      <td>1.000000</td>\n",
       "      <td>0.018443</td>\n",
       "      <td>-0.369226</td>\n",
       "      <td>-0.549500</td>\n",
       "    </tr>\n",
       "    <tr>\n",
       "      <th>Parch</th>\n",
       "      <td>0.081629</td>\n",
       "      <td>0.018443</td>\n",
       "      <td>1.000000</td>\n",
       "      <td>-0.189119</td>\n",
       "      <td>0.216225</td>\n",
       "    </tr>\n",
       "    <tr>\n",
       "      <th>Age</th>\n",
       "      <td>-0.077221</td>\n",
       "      <td>-0.369226</td>\n",
       "      <td>-0.189119</td>\n",
       "      <td>1.000000</td>\n",
       "      <td>0.096067</td>\n",
       "    </tr>\n",
       "    <tr>\n",
       "      <th>Fare</th>\n",
       "      <td>0.257307</td>\n",
       "      <td>-0.549500</td>\n",
       "      <td>0.216225</td>\n",
       "      <td>0.096067</td>\n",
       "      <td>1.000000</td>\n",
       "    </tr>\n",
       "  </tbody>\n",
       "</table>\n",
       "</div>"
      ],
      "text/plain": [
       "          Survived    Pclass     Parch       Age      Fare\n",
       "Survived  1.000000 -0.338481  0.081629 -0.077221  0.257307\n",
       "Pclass   -0.338481  1.000000  0.018443 -0.369226 -0.549500\n",
       "Parch     0.081629  0.018443  1.000000 -0.189119  0.216225\n",
       "Age      -0.077221 -0.369226 -0.189119  1.000000  0.096067\n",
       "Fare      0.257307 -0.549500  0.216225  0.096067  1.000000"
      ]
     },
     "execution_count": 19,
     "metadata": {},
     "output_type": "execute_result"
    }
   ],
   "source": [
    "df_train[['Survived','Pclass','Parch','Age','Fare']].corr()"
   ]
  },
  {
   "cell_type": "code",
   "execution_count": 20,
   "metadata": {},
   "outputs": [
    {
     "data": {
      "text/plain": [
       "Text(0.5, 1, 'Heatmap with numeric features + \"Pclass\"')"
      ]
     },
     "execution_count": 20,
     "metadata": {},
     "output_type": "execute_result"
    },
    {
     "data": {
      "image/png": "[encoded data removed]",
      "text/plain": [
       "<Figure size 936x504 with 2 Axes>"
      ]
     },
     "metadata": {
      "needs_background": "light"
     },
     "output_type": "display_data"
    }
   ],
   "source": [
    "ax = plt.figure(figsize = (13,7))\n",
    "ax = sns.heatmap(df_train[['Survived','Pclass','Parch','Age','Fare']].corr(), annot = True,\n",
    "                 linecolor = 'k', linewidths=.5)\n",
    "ax.set_title('Heatmap with numeric features + \"Pclass\"', fontsize = 16)"
   ]
  },
  {
   "cell_type": "markdown",
   "metadata": {},
   "source": [
    "#### As we can see, the numeric features, with the exception of \"Fare\" and \"Pclass\", are not strongly correlated, this is good because we wont have problems with data leakage in the M.L. models.\n",
    "#### Also notice that the strongest correlation is between Pclass and Fare, and it's negative as we could expect since the first class (1) usualy has the highest fares."
   ]
  },
  {
   "cell_type": "markdown",
   "metadata": {},
   "source": [
    "# 1.3 Analysing the feature Fare "
   ]
  },
  {
   "cell_type": "code",
   "execution_count": 21,
   "metadata": {},
   "outputs": [
    {
     "data": {
      "text/plain": [
       "Text(0.5, 1.0, 'Distribution of Fare')"
      ]
     },
     "execution_count": 21,
     "metadata": {},
     "output_type": "execute_result"
    },
    {
     "data": {
      "image/png": "[encoded data removed]",
      "text/plain": [
       "<Figure size 936x504 with 1 Axes>"
      ]
     },
     "metadata": {
      "needs_background": "light"
     },
     "output_type": "display_data"
    }
   ],
   "source": [
    "ax = plt.figure(figsize = (13,7))\n",
    "ax = sns.distplot(df_train['Fare'])\n",
    "ax.set_xlabel('Fare', fontsize = 14)\n",
    "ax.set_title('Distribution of Fare', fontsize = 16)"
   ]
  },
  {
   "cell_type": "markdown",
   "metadata": {},
   "source": [
    "#### Clearly we've got some outliers here. Let's improve this visualization."
   ]
  },
  {
   "cell_type": "code",
   "execution_count": 22,
   "metadata": {},
   "outputs": [
    {
     "data": {
      "text/plain": [
       "Text(0.5, 1.0, 'Distribution of Fare')"
      ]
     },
     "execution_count": 22,
     "metadata": {},
     "output_type": "execute_result"
    },
    {
     "data": {
      "image/png": "[encoded data removed]",
      "text/plain": [
       "<Figure size 936x504 with 1 Axes>"
      ]
     },
     "metadata": {
      "needs_background": "light"
     },
     "output_type": "display_data"
    }
   ],
   "source": [
    "plt.figure(figsize = (13,7))\n",
    "plt.hist(df_train['Fare'],\n",
    "         bins = np.arange(df_train['Fare'].min(), 160,5),\n",
    "         density = False, edgecolor = 'black')\n",
    "plt.xlabel('Fare', fontsize = 14)\n",
    "plt.title('Distribution of Fare', fontsize = 16)"
   ]
  },
  {
   "cell_type": "markdown",
   "metadata": {},
   "source": [
    "#### We still got a right skewed distribution, but now we can observe some interesting points. For exemple: there are \"modes\" of Fare around 10, 30, 55 and 80 Dollars. Also is clear that the majority of the tickets were sold for fares bellow 60 Dollars.\n",
    "#### There are also passengers who didn't pay for their tickets."
   ]
  },
  {
   "cell_type": "code",
   "execution_count": 23,
   "metadata": {},
   "outputs": [
    {
     "data": {
      "text/html": [
       "<div>\n",
       "<style scoped>\n",
       "    .dataframe tbody tr th:only-of-type {\n",
       "        vertical-align: middle;\n",
       "    }\n",
       "\n",
       "    .dataframe tbody tr th {\n",
       "        vertical-align: top;\n",
       "    }\n",
       "\n",
       "    .dataframe thead th {\n",
       "        text-align: right;\n",
       "    }\n",
       "</style>\n",
       "<table border=\"1\" class=\"dataframe\">\n",
       "  <thead>\n",
       "    <tr style=\"text-align: right;\">\n",
       "      <th></th>\n",
       "      <th>Fare</th>\n",
       "      <th>Fare_below_500</th>\n",
       "      <th>Fare_below_250</th>\n",
       "      <th>Fare_below_160</th>\n",
       "    </tr>\n",
       "  </thead>\n",
       "  <tbody>\n",
       "    <tr>\n",
       "      <th>count</th>\n",
       "      <td>891.000000</td>\n",
       "      <td>888.000000</td>\n",
       "      <td>882.000000</td>\n",
       "      <td>869.000000</td>\n",
       "    </tr>\n",
       "    <tr>\n",
       "      <th>mean</th>\n",
       "      <td>32.204208</td>\n",
       "      <td>30.582164</td>\n",
       "      <td>29.002508</td>\n",
       "      <td>26.211789</td>\n",
       "    </tr>\n",
       "    <tr>\n",
       "      <th>std</th>\n",
       "      <td>49.693429</td>\n",
       "      <td>41.176366</td>\n",
       "      <td>36.569302</td>\n",
       "      <td>28.623086</td>\n",
       "    </tr>\n",
       "    <tr>\n",
       "      <th>min</th>\n",
       "      <td>0.000000</td>\n",
       "      <td>0.000000</td>\n",
       "      <td>0.000000</td>\n",
       "      <td>0.000000</td>\n",
       "    </tr>\n",
       "    <tr>\n",
       "      <th>25%</th>\n",
       "      <td>7.910400</td>\n",
       "      <td>7.895800</td>\n",
       "      <td>7.895800</td>\n",
       "      <td>7.895800</td>\n",
       "    </tr>\n",
       "    <tr>\n",
       "      <th>50%</th>\n",
       "      <td>14.454200</td>\n",
       "      <td>14.454200</td>\n",
       "      <td>14.454200</td>\n",
       "      <td>13.858300</td>\n",
       "    </tr>\n",
       "    <tr>\n",
       "      <th>75%</th>\n",
       "      <td>31.000000</td>\n",
       "      <td>30.771850</td>\n",
       "      <td>30.500000</td>\n",
       "      <td>30.000000</td>\n",
       "    </tr>\n",
       "    <tr>\n",
       "      <th>max</th>\n",
       "      <td>512.329200</td>\n",
       "      <td>263.000000</td>\n",
       "      <td>247.520800</td>\n",
       "      <td>153.462500</td>\n",
       "    </tr>\n",
       "  </tbody>\n",
       "</table>\n",
       "</div>"
      ],
      "text/plain": [
       "             Fare  Fare_below_500  Fare_below_250  Fare_below_160\n",
       "count  891.000000      888.000000      882.000000      869.000000\n",
       "mean    32.204208       30.582164       29.002508       26.211789\n",
       "std     49.693429       41.176366       36.569302       28.623086\n",
       "min      0.000000        0.000000        0.000000        0.000000\n",
       "25%      7.910400        7.895800        7.895800        7.895800\n",
       "50%     14.454200       14.454200       14.454200       13.858300\n",
       "75%     31.000000       30.771850       30.500000       30.000000\n",
       "max    512.329200      263.000000      247.520800      153.462500"
      ]
     },
     "execution_count": 23,
     "metadata": {},
     "output_type": "execute_result"
    }
   ],
   "source": [
    "df_Fare = pd.DataFrame(df_train['Fare'].describe())\n",
    "df_Fare['Fare_below_500'] = df_train.query('Fare <= 500')['Fare'].describe()\n",
    "df_Fare['Fare_below_250'] = df_train.query('Fare <= 250')['Fare'].describe()\n",
    "df_Fare['Fare_below_160'] = df_train.query('Fare <= 160')['Fare'].describe()\n",
    "df_Fare"
   ]
  },
  {
   "cell_type": "markdown",
   "metadata": {},
   "source": [
    "#### The outliers have strong impact in metrics like mean and standard deviation, although the quartiles remain pretty much the same.\n",
    "#### Now we see from the numbers that, in fact, 75% ot the tickets were sold for 31 Dollars or less."
   ]
  },
  {
   "cell_type": "markdown",
   "metadata": {},
   "source": [
    "#### Now, let's check how this feature is related to the Pclass and Embarked. Boxplots are great to see relations between categorical features, lets explore this power."
   ]
  },
  {
   "cell_type": "code",
   "execution_count": 24,
   "metadata": {},
   "outputs": [
    {
     "data": {
      "text/plain": [
       "Text(0, 0.5, 'Embarked')"
      ]
     },
     "execution_count": 24,
     "metadata": {},
     "output_type": "execute_result"
    },
    {
     "data": {
      "image/png": "[encoded data removed]",
      "text/plain": [
       "<Figure size 720x648 with 1 Axes>"
      ]
     },
     "metadata": {
      "needs_background": "light"
     },
     "output_type": "display_data"
    }
   ],
   "source": [
    "ax = plt.figure(figsize = (10,9))\n",
    "ax = sns.boxplot(x = 'Fare', y = 'Embarked', hue = 'Pclass', data = df_train.query('Fare <=200')\n",
    "                 , orient = 'h')\n",
    "ax.set_title('Visualizing the behavior of Fare',fontsize=16)\n",
    "ax.set_xlabel('Fare', fontsize = 14)\n",
    "ax.set_ylabel('Embarked', fontsize = 14)"
   ]
  },
  {
   "cell_type": "markdown",
   "metadata": {},
   "source": [
    "#### So, there it is. Even without the outliers, first class tickets were way more expensive. But now we can see that the second and specially the third class fares have outliers too."
   ]
  },
  {
   "cell_type": "code",
   "execution_count": 25,
   "metadata": {},
   "outputs": [
    {
     "data": {
      "text/plain": [
       "Pclass\n",
       "1    78.124061\n",
       "2    20.662183\n",
       "3    13.675550\n",
       "Name: Fare, dtype: float64"
      ]
     },
     "execution_count": 25,
     "metadata": {},
     "output_type": "execute_result"
    }
   ],
   "source": [
    "df_train.query('Fare<=500').groupby(['Pclass'])['Fare'].mean()"
   ]
  },
  {
   "cell_type": "code",
   "execution_count": 26,
   "metadata": {},
   "outputs": [
    {
     "data": {
      "text/html": [
       "<style  type=\"text/css\" >\n",
       "    #T_edd9bffe_a043_11ea_900e_704d7bcef095row0_col0 {\n",
       "            background-color:  #fff7fb;\n",
       "            color:  #000000;\n",
       "        }    #T_edd9bffe_a043_11ea_900e_704d7bcef095row1_col0 {\n",
       "            background-color:  #d2d2e7;\n",
       "            color:  #000000;\n",
       "        }    #T_edd9bffe_a043_11ea_900e_704d7bcef095row2_col0 {\n",
       "            background-color:  #f4eef6;\n",
       "            color:  #000000;\n",
       "        }    #T_edd9bffe_a043_11ea_900e_704d7bcef095row3_col0 {\n",
       "            background-color:  #efe9f3;\n",
       "            color:  #000000;\n",
       "        }    #T_edd9bffe_a043_11ea_900e_704d7bcef095row4_col0 {\n",
       "            background-color:  #c8cde4;\n",
       "            color:  #000000;\n",
       "        }    #T_edd9bffe_a043_11ea_900e_704d7bcef095row5_col0 {\n",
       "            background-color:  #89b1d4;\n",
       "            color:  #000000;\n",
       "        }    #T_edd9bffe_a043_11ea_900e_704d7bcef095row6_col0 {\n",
       "            background-color:  #73a9cf;\n",
       "            color:  #000000;\n",
       "        }    #T_edd9bffe_a043_11ea_900e_704d7bcef095row7_col0 {\n",
       "            background-color:  #89b1d4;\n",
       "            color:  #000000;\n",
       "        }    #T_edd9bffe_a043_11ea_900e_704d7bcef095row8_col0 {\n",
       "            background-color:  #549cc7;\n",
       "            color:  #000000;\n",
       "        }    #T_edd9bffe_a043_11ea_900e_704d7bcef095row9_col0 {\n",
       "            background-color:  #b5c4df;\n",
       "            color:  #000000;\n",
       "        }    #T_edd9bffe_a043_11ea_900e_704d7bcef095row10_col0 {\n",
       "            background-color:  #056ba9;\n",
       "            color:  #f1f1f1;\n",
       "        }    #T_edd9bffe_a043_11ea_900e_704d7bcef095row11_col0 {\n",
       "            background-color:  #023858;\n",
       "            color:  #f1f1f1;\n",
       "        }</style><table id=\"T_edd9bffe_a043_11ea_900e_704d7bcef095\" ><thead>    <tr>        <th class=\"blank level0\" ></th>        <th class=\"col_heading level0 col0\" >Survived</th>    </tr>    <tr>        <th class=\"index_name level0\" >Fare_Surv</th>        <th class=\"blank\" ></th>    </tr></thead><tbody>\n",
       "                <tr>\n",
       "                        <th id=\"T_edd9bffe_a043_11ea_900e_704d7bcef095level0_row0\" class=\"row_heading level0 row0\" >(-0.001, 7.25]</th>\n",
       "                        <td id=\"T_edd9bffe_a043_11ea_900e_704d7bcef095row0_col0\" class=\"data row0 col0\" >0.132530</td>\n",
       "            </tr>\n",
       "            <tr>\n",
       "                        <th id=\"T_edd9bffe_a043_11ea_900e_704d7bcef095level0_row1\" class=\"row_heading level0 row1\" >(7.25, 7.775]</th>\n",
       "                        <td id=\"T_edd9bffe_a043_11ea_900e_704d7bcef095row1_col0\" class=\"data row1 col0\" >0.287671</td>\n",
       "            </tr>\n",
       "            <tr>\n",
       "                        <th id=\"T_edd9bffe_a043_11ea_900e_704d7bcef095level0_row2\" class=\"row_heading level0 row2\" >(7.775, 7.91]</th>\n",
       "                        <td id=\"T_edd9bffe_a043_11ea_900e_704d7bcef095row2_col0\" class=\"data row2 col0\" >0.179104</td>\n",
       "            </tr>\n",
       "            <tr>\n",
       "                        <th id=\"T_edd9bffe_a043_11ea_900e_704d7bcef095level0_row3\" class=\"row_heading level0 row3\" >(7.91, 8.662]</th>\n",
       "                        <td id=\"T_edd9bffe_a043_11ea_900e_704d7bcef095row3_col0\" class=\"data row3 col0\" >0.200000</td>\n",
       "            </tr>\n",
       "            <tr>\n",
       "                        <th id=\"T_edd9bffe_a043_11ea_900e_704d7bcef095level0_row4\" class=\"row_heading level0 row4\" >(8.662, 11.5]</th>\n",
       "                        <td id=\"T_edd9bffe_a043_11ea_900e_704d7bcef095row4_col0\" class=\"data row4 col0\" >0.307692</td>\n",
       "            </tr>\n",
       "            <tr>\n",
       "                        <th id=\"T_edd9bffe_a043_11ea_900e_704d7bcef095level0_row5\" class=\"row_heading level0 row5\" >(11.5, 14.454]</th>\n",
       "                        <td id=\"T_edd9bffe_a043_11ea_900e_704d7bcef095row5_col0\" class=\"data row5 col0\" >0.418919</td>\n",
       "            </tr>\n",
       "            <tr>\n",
       "                        <th id=\"T_edd9bffe_a043_11ea_900e_704d7bcef095level0_row6\" class=\"row_heading level0 row6\" >(14.454, 20.525]</th>\n",
       "                        <td id=\"T_edd9bffe_a043_11ea_900e_704d7bcef095row6_col0\" class=\"data row6 col0\" >0.453333</td>\n",
       "            </tr>\n",
       "            <tr>\n",
       "                        <th id=\"T_edd9bffe_a043_11ea_900e_704d7bcef095level0_row7\" class=\"row_heading level0 row7\" >(20.525, 26.0]</th>\n",
       "                        <td id=\"T_edd9bffe_a043_11ea_900e_704d7bcef095row7_col0\" class=\"data row7 col0\" >0.418919</td>\n",
       "            </tr>\n",
       "            <tr>\n",
       "                        <th id=\"T_edd9bffe_a043_11ea_900e_704d7bcef095level0_row8\" class=\"row_heading level0 row8\" >(26.0, 31.0]</th>\n",
       "                        <td id=\"T_edd9bffe_a043_11ea_900e_704d7bcef095row8_col0\" class=\"data row8 col0\" >0.493151</td>\n",
       "            </tr>\n",
       "            <tr>\n",
       "                        <th id=\"T_edd9bffe_a043_11ea_900e_704d7bcef095level0_row9\" class=\"row_heading level0 row9\" >(31.0, 52.369]</th>\n",
       "                        <td id=\"T_edd9bffe_a043_11ea_900e_704d7bcef095row9_col0\" class=\"data row9 col0\" >0.342466</td>\n",
       "            </tr>\n",
       "            <tr>\n",
       "                        <th id=\"T_edd9bffe_a043_11ea_900e_704d7bcef095level0_row10\" class=\"row_heading level0 row10\" >(52.369, 80.0]</th>\n",
       "                        <td id=\"T_edd9bffe_a043_11ea_900e_704d7bcef095row10_col0\" class=\"data row10 col0\" >0.626667</td>\n",
       "            </tr>\n",
       "            <tr>\n",
       "                        <th id=\"T_edd9bffe_a043_11ea_900e_704d7bcef095level0_row11\" class=\"row_heading level0 row11\" >(80.0, 512.329]</th>\n",
       "                        <td id=\"T_edd9bffe_a043_11ea_900e_704d7bcef095row11_col0\" class=\"data row11 col0\" >0.770270</td>\n",
       "            </tr>\n",
       "    </tbody></table>"
      ],
      "text/plain": [
       "<pandas.io.formats.style.Styler at 0x216729ba488>"
      ]
     },
     "execution_count": 26,
     "metadata": {},
     "output_type": "execute_result"
    }
   ],
   "source": [
    "df_train['Fare_Surv']=pd.qcut(df_train['Fare'],12)\n",
    "df_train.groupby(['Fare_Surv'])['Survived'].mean().to_frame().style.background_gradient(cmap='PuBu')"
   ]
  },
  {
   "cell_type": "markdown",
   "metadata": {},
   "source": [
    "#### Let's finish our feature exploraton with this quantile visualization. so, basicaly, the higher the Fare the higher the survival rate. With few exceptions."
   ]
  },
  {
   "cell_type": "markdown",
   "metadata": {},
   "source": [
    "# 1.4 Analysing names and titles."
   ]
  },
  {
   "cell_type": "markdown",
   "metadata": {},
   "source": [
    "#### First lets look for the Name feature and see what titles we can find.\n",
    "#### There they are: Mr, Ms, Miss, Mrs, Mlle, Mme, Master, Dr, Capt, Countess, Don, Dona, Lady, Col, Major, Rev, Sir and Jonkheer are the titles.\n",
    "#### Now we can create a new Feature called 'Title' and get the titles from the passenger's names, this feature will help us to see the survival rates by a different angle. Also we can notice that the titles can give us important clues about the Age of the passengers."
   ]
  },
  {
   "cell_type": "code",
   "execution_count": 27,
   "metadata": {},
   "outputs": [],
   "source": [
    "df_train['Title'] = df_train['Name'].str.extract(' ([A-Za-z]+)\\.', expand=False)"
   ]
  },
  {
   "cell_type": "code",
   "execution_count": 28,
   "metadata": {},
   "outputs": [
    {
     "data": {
      "text/html": [
       "<div>\n",
       "<style scoped>\n",
       "    .dataframe tbody tr th:only-of-type {\n",
       "        vertical-align: middle;\n",
       "    }\n",
       "\n",
       "    .dataframe tbody tr th {\n",
       "        vertical-align: top;\n",
       "    }\n",
       "\n",
       "    .dataframe thead th {\n",
       "        text-align: right;\n",
       "    }\n",
       "</style>\n",
       "<table border=\"1\" class=\"dataframe\">\n",
       "  <thead>\n",
       "    <tr style=\"text-align: right;\">\n",
       "      <th></th>\n",
       "      <th>PassengerId</th>\n",
       "      <th>Survived</th>\n",
       "      <th>Pclass</th>\n",
       "      <th>Name</th>\n",
       "      <th>Sex</th>\n",
       "      <th>Age</th>\n",
       "      <th>SibSp</th>\n",
       "      <th>Parch</th>\n",
       "      <th>Ticket</th>\n",
       "      <th>Fare</th>\n",
       "      <th>Cabin</th>\n",
       "      <th>Embarked</th>\n",
       "      <th>Age_Surv</th>\n",
       "      <th>Fare_Surv</th>\n",
       "      <th>Title</th>\n",
       "    </tr>\n",
       "  </thead>\n",
       "  <tbody>\n",
       "    <tr>\n",
       "      <th>0</th>\n",
       "      <td>1</td>\n",
       "      <td>0</td>\n",
       "      <td>3</td>\n",
       "      <td>Braund, Mr. Owen Harris</td>\n",
       "      <td>male</td>\n",
       "      <td>22.0</td>\n",
       "      <td>1</td>\n",
       "      <td>0</td>\n",
       "      <td>A/5 21171</td>\n",
       "      <td>7.2500</td>\n",
       "      <td>NaN</td>\n",
       "      <td>S</td>\n",
       "      <td>(20.125, 23.0]</td>\n",
       "      <td>(-0.001, 7.25]</td>\n",
       "      <td>Mr</td>\n",
       "    </tr>\n",
       "    <tr>\n",
       "      <th>1</th>\n",
       "      <td>2</td>\n",
       "      <td>1</td>\n",
       "      <td>1</td>\n",
       "      <td>Cumings, Mrs. John Bradley (Florence Briggs Th...</td>\n",
       "      <td>female</td>\n",
       "      <td>38.0</td>\n",
       "      <td>1</td>\n",
       "      <td>0</td>\n",
       "      <td>PC 17599</td>\n",
       "      <td>71.2833</td>\n",
       "      <td>C85</td>\n",
       "      <td>C</td>\n",
       "      <td>(34.0, 38.0]</td>\n",
       "      <td>(52.369, 80.0]</td>\n",
       "      <td>Mrs</td>\n",
       "    </tr>\n",
       "    <tr>\n",
       "      <th>2</th>\n",
       "      <td>3</td>\n",
       "      <td>1</td>\n",
       "      <td>3</td>\n",
       "      <td>Heikkinen, Miss. Laina</td>\n",
       "      <td>female</td>\n",
       "      <td>26.0</td>\n",
       "      <td>0</td>\n",
       "      <td>0</td>\n",
       "      <td>STON/O2. 3101282</td>\n",
       "      <td>7.9250</td>\n",
       "      <td>NaN</td>\n",
       "      <td>S</td>\n",
       "      <td>(25.0, 28.0]</td>\n",
       "      <td>(7.91, 8.662]</td>\n",
       "      <td>Miss</td>\n",
       "    </tr>\n",
       "    <tr>\n",
       "      <th>3</th>\n",
       "      <td>4</td>\n",
       "      <td>1</td>\n",
       "      <td>1</td>\n",
       "      <td>Futrelle, Mrs. Jacques Heath (Lily May Peel)</td>\n",
       "      <td>female</td>\n",
       "      <td>35.0</td>\n",
       "      <td>1</td>\n",
       "      <td>0</td>\n",
       "      <td>113803</td>\n",
       "      <td>53.1000</td>\n",
       "      <td>C123</td>\n",
       "      <td>S</td>\n",
       "      <td>(34.0, 38.0]</td>\n",
       "      <td>(52.369, 80.0]</td>\n",
       "      <td>Mrs</td>\n",
       "    </tr>\n",
       "    <tr>\n",
       "      <th>4</th>\n",
       "      <td>5</td>\n",
       "      <td>0</td>\n",
       "      <td>3</td>\n",
       "      <td>Allen, Mr. William Henry</td>\n",
       "      <td>male</td>\n",
       "      <td>35.0</td>\n",
       "      <td>0</td>\n",
       "      <td>0</td>\n",
       "      <td>373450</td>\n",
       "      <td>8.0500</td>\n",
       "      <td>NaN</td>\n",
       "      <td>S</td>\n",
       "      <td>(34.0, 38.0]</td>\n",
       "      <td>(7.91, 8.662]</td>\n",
       "      <td>Mr</td>\n",
       "    </tr>\n",
       "  </tbody>\n",
       "</table>\n",
       "</div>"
      ],
      "text/plain": [
       "   PassengerId  Survived  Pclass  \\\n",
       "0            1         0       3   \n",
       "1            2         1       1   \n",
       "2            3         1       3   \n",
       "3            4         1       1   \n",
       "4            5         0       3   \n",
       "\n",
       "                                                Name     Sex   Age  SibSp  \\\n",
       "0                            Braund, Mr. Owen Harris    male  22.0      1   \n",
       "1  Cumings, Mrs. John Bradley (Florence Briggs Th...  female  38.0      1   \n",
       "2                             Heikkinen, Miss. Laina  female  26.0      0   \n",
       "3       Futrelle, Mrs. Jacques Heath (Lily May Peel)  female  35.0      1   \n",
       "4                           Allen, Mr. William Henry    male  35.0      0   \n",
       "\n",
       "   Parch            Ticket     Fare Cabin Embarked        Age_Surv  \\\n",
       "0      0         A/5 21171   7.2500   NaN        S  (20.125, 23.0]   \n",
       "1      0          PC 17599  71.2833   C85        C    (34.0, 38.0]   \n",
       "2      0  STON/O2. 3101282   7.9250   NaN        S    (25.0, 28.0]   \n",
       "3      0            113803  53.1000  C123        S    (34.0, 38.0]   \n",
       "4      0            373450   8.0500   NaN        S    (34.0, 38.0]   \n",
       "\n",
       "        Fare_Surv Title  \n",
       "0  (-0.001, 7.25]    Mr  \n",
       "1  (52.369, 80.0]   Mrs  \n",
       "2   (7.91, 8.662]  Miss  \n",
       "3  (52.369, 80.0]   Mrs  \n",
       "4   (7.91, 8.662]    Mr  "
      ]
     },
     "execution_count": 28,
     "metadata": {},
     "output_type": "execute_result"
    }
   ],
   "source": [
    "df_train.head()"
   ]
  },
  {
   "cell_type": "code",
   "execution_count": 29,
   "metadata": {},
   "outputs": [],
   "source": [
    "Title_list = [\"Mr\", \"Ms\", \"Miss\", \"Mrs\", \"Mlle\", \"Mme\", \"Master\", \"Dr\", \"Capt\", \"Countess\",\n",
    " \"Don\", \"Dona\", \"Lady\", \"Col\", \"Major\", \"Rev\", \"Sir\", \"Jonkheer\"]\n",
    "dict_title_surv = {}\n",
    "dict_title_total = {}\n",
    "\n",
    "for title in Title_list:\n",
    "    dict_title_surv[f\"{title}\"] = ((df_train[\"Title\"] == title) & df_train['Survived'] == 1).sum()\n",
    "    dict_title_total[f\"{title}\"] = (df_train[\"Title\"] == title).sum()"
   ]
  },
  {
   "cell_type": "code",
   "execution_count": 30,
   "metadata": {},
   "outputs": [
    {
     "data": {
      "text/plain": [
       "{'Mr': 517,\n",
       " 'Ms': 1,\n",
       " 'Miss': 182,\n",
       " 'Mrs': 125,\n",
       " 'Mlle': 2,\n",
       " 'Mme': 1,\n",
       " 'Master': 40,\n",
       " 'Dr': 7,\n",
       " 'Capt': 1,\n",
       " 'Countess': 1,\n",
       " 'Don': 1,\n",
       " 'Dona': 0,\n",
       " 'Lady': 1,\n",
       " 'Col': 2,\n",
       " 'Major': 2,\n",
       " 'Rev': 6,\n",
       " 'Sir': 1,\n",
       " 'Jonkheer': 1}"
      ]
     },
     "execution_count": 30,
     "metadata": {},
     "output_type": "execute_result"
    }
   ],
   "source": [
    "dict_title_total"
   ]
  },
  {
   "cell_type": "code",
   "execution_count": 31,
   "metadata": {},
   "outputs": [
    {
     "data": {
      "text/plain": [
       "Mr          0.156673\n",
       "Ms          1.000000\n",
       "Miss        0.697802\n",
       "Mrs         0.792000\n",
       "Mlle        1.000000\n",
       "Mme         1.000000\n",
       "Master      0.575000\n",
       "Dr          0.428571\n",
       "Capt        0.000000\n",
       "Countess    1.000000\n",
       "Don         0.000000\n",
       "Dona             NaN\n",
       "Lady        1.000000\n",
       "Col         0.500000\n",
       "Major       0.500000\n",
       "Rev         0.000000\n",
       "Sir         1.000000\n",
       "Jonkheer    0.000000\n",
       "dtype: float64"
      ]
     },
     "execution_count": 31,
     "metadata": {},
     "output_type": "execute_result"
    }
   ],
   "source": [
    "Title_surv_rates = pd.Series(dict_title_surv) / pd.Series(dict_title_total)\n",
    "Title_surv_rates"
   ]
  },
  {
   "cell_type": "markdown",
   "metadata": {},
   "source": [
    "### Ignoring all low population titles, like major and lady. Miss, Mrs and Master had better survival rates. These titles can be good features for our future ML model. (Some feature like: \"Special Group\")"
   ]
  },
  {
   "cell_type": "markdown",
   "metadata": {},
   "source": [
    "# 2.0 Aiming for the ML model"
   ]
  },
  {
   "cell_type": "markdown",
   "metadata": {},
   "source": [
    "### First of all, we need to think about the features we are going to use in our models. Features that are already there or that we are going to create using some feature engineering.\n",
    "### The feature engineering will be based on our previous discoveries. The point is to simplify and strengthen their explanatory capabilities and/or to make them more suitable for the models that we are going to use."
   ]
  },
  {
   "cell_type": "code",
   "execution_count": 32,
   "metadata": {},
   "outputs": [],
   "source": [
    "df_train_ml = df_train.copy()"
   ]
  },
  {
   "cell_type": "code",
   "execution_count": 33,
   "metadata": {},
   "outputs": [
    {
     "name": "stdout",
     "output_type": "stream",
     "text": [
      "<class 'pandas.core.frame.DataFrame'>\n",
      "RangeIndex: 891 entries, 0 to 890\n",
      "Data columns (total 15 columns):\n",
      " #   Column       Non-Null Count  Dtype   \n",
      "---  ------       --------------  -----   \n",
      " 0   PassengerId  891 non-null    int64   \n",
      " 1   Survived     891 non-null    int64   \n",
      " 2   Pclass       891 non-null    int64   \n",
      " 3   Name         891 non-null    object  \n",
      " 4   Sex          891 non-null    object  \n",
      " 5   Age          714 non-null    float64 \n",
      " 6   SibSp        891 non-null    int64   \n",
      " 7   Parch        891 non-null    int64   \n",
      " 8   Ticket       891 non-null    object  \n",
      " 9   Fare         891 non-null    float64 \n",
      " 10  Cabin        204 non-null    object  \n",
      " 11  Embarked     889 non-null    object  \n",
      " 12  Age_Surv     714 non-null    category\n",
      " 13  Fare_Surv    891 non-null    category\n",
      " 14  Title        891 non-null    object  \n",
      "dtypes: category(2), float64(2), int64(5), object(6)\n",
      "memory usage: 94.0+ KB\n"
     ]
    }
   ],
   "source": [
    "df_train_ml.info()"
   ]
  },
  {
   "cell_type": "markdown",
   "metadata": {},
   "source": [
    "## 2.1 Handling the missing values in our key features."
   ]
  },
  {
   "cell_type": "markdown",
   "metadata": {},
   "source": [
    "## 2.1.1 \"Age\""
   ]
  },
  {
   "cell_type": "code",
   "execution_count": 34,
   "metadata": {},
   "outputs": [
    {
     "data": {
      "text/plain": [
       "177"
      ]
     },
     "execution_count": 34,
     "metadata": {},
     "output_type": "execute_result"
    }
   ],
   "source": [
    "df_train_ml[\"Age\"].isnull().sum()"
   ]
  },
  {
   "cell_type": "markdown",
   "metadata": {},
   "source": [
    "### Since we are using age as a feature, lets try to get rid of these \"NaN\" inputs. We already have segmented the population using titles. Now lets see how much this feature tells us about the age of the passengers."
   ]
  },
  {
   "cell_type": "code",
   "execution_count": 35,
   "metadata": {},
   "outputs": [],
   "source": [
    "title_mean_age = df_train_ml.groupby(df_train[\"Title\"])[\"Age\"].mean()\n"
   ]
  },
  {
   "cell_type": "markdown",
   "metadata": {},
   "source": [
    "### The code below fills in every missing value in the \"Age\"  feature with the mean value in every group. The groups are \"Title\" based."
   ]
  },
  {
   "cell_type": "code",
   "execution_count": 36,
   "metadata": {},
   "outputs": [
    {
     "data": {
      "text/plain": [
       "0"
      ]
     },
     "execution_count": 36,
     "metadata": {},
     "output_type": "execute_result"
    }
   ],
   "source": [
    "for title in df_train_ml[\"Title\"]:\n",
    "    df_train_ml['Age'] = (np.where((df_train_ml.Age.isnull()) & (df_train_ml.Title== title),\n",
    "                          title_mean_age.loc[f\"{title}\"], df_train_ml[\"Age\"]))     \n",
    "df_train_ml[\"Age\"].isnull().sum()"
   ]
  },
  {
   "cell_type": "markdown",
   "metadata": {},
   "source": [
    "## 2.2 Feature Engeneering"
   ]
  },
  {
   "cell_type": "code",
   "execution_count": 37,
   "metadata": {},
   "outputs": [],
   "source": [
    "df_train_ml = df_train_ml.set_index('PassengerId')\n"
   ]
  },
  {
   "cell_type": "code",
   "execution_count": 38,
   "metadata": {},
   "outputs": [
    {
     "data": {
      "text/html": [
       "<div>\n",
       "<style scoped>\n",
       "    .dataframe tbody tr th:only-of-type {\n",
       "        vertical-align: middle;\n",
       "    }\n",
       "\n",
       "    .dataframe tbody tr th {\n",
       "        vertical-align: top;\n",
       "    }\n",
       "\n",
       "    .dataframe thead th {\n",
       "        text-align: right;\n",
       "    }\n",
       "</style>\n",
       "<table border=\"1\" class=\"dataframe\">\n",
       "  <thead>\n",
       "    <tr style=\"text-align: right;\">\n",
       "      <th></th>\n",
       "      <th>Survived</th>\n",
       "      <th>Pclass</th>\n",
       "      <th>Name</th>\n",
       "      <th>Sex</th>\n",
       "      <th>Age</th>\n",
       "      <th>SibSp</th>\n",
       "      <th>Parch</th>\n",
       "      <th>Ticket</th>\n",
       "      <th>Fare</th>\n",
       "      <th>Cabin</th>\n",
       "      <th>Embarked</th>\n",
       "      <th>Age_Surv</th>\n",
       "      <th>Fare_Surv</th>\n",
       "      <th>Title</th>\n",
       "    </tr>\n",
       "    <tr>\n",
       "      <th>PassengerId</th>\n",
       "      <th></th>\n",
       "      <th></th>\n",
       "      <th></th>\n",
       "      <th></th>\n",
       "      <th></th>\n",
       "      <th></th>\n",
       "      <th></th>\n",
       "      <th></th>\n",
       "      <th></th>\n",
       "      <th></th>\n",
       "      <th></th>\n",
       "      <th></th>\n",
       "      <th></th>\n",
       "      <th></th>\n",
       "    </tr>\n",
       "  </thead>\n",
       "  <tbody>\n",
       "    <tr>\n",
       "      <th>1</th>\n",
       "      <td>0</td>\n",
       "      <td>3</td>\n",
       "      <td>Braund, Mr. Owen Harris</td>\n",
       "      <td>male</td>\n",
       "      <td>22.0</td>\n",
       "      <td>1</td>\n",
       "      <td>0</td>\n",
       "      <td>A/5 21171</td>\n",
       "      <td>7.2500</td>\n",
       "      <td>NaN</td>\n",
       "      <td>S</td>\n",
       "      <td>(20.125, 23.0]</td>\n",
       "      <td>(-0.001, 7.25]</td>\n",
       "      <td>Mr</td>\n",
       "    </tr>\n",
       "    <tr>\n",
       "      <th>2</th>\n",
       "      <td>1</td>\n",
       "      <td>1</td>\n",
       "      <td>Cumings, Mrs. John Bradley (Florence Briggs Th...</td>\n",
       "      <td>female</td>\n",
       "      <td>38.0</td>\n",
       "      <td>1</td>\n",
       "      <td>0</td>\n",
       "      <td>PC 17599</td>\n",
       "      <td>71.2833</td>\n",
       "      <td>C85</td>\n",
       "      <td>C</td>\n",
       "      <td>(34.0, 38.0]</td>\n",
       "      <td>(52.369, 80.0]</td>\n",
       "      <td>Mrs</td>\n",
       "    </tr>\n",
       "    <tr>\n",
       "      <th>3</th>\n",
       "      <td>1</td>\n",
       "      <td>3</td>\n",
       "      <td>Heikkinen, Miss. Laina</td>\n",
       "      <td>female</td>\n",
       "      <td>26.0</td>\n",
       "      <td>0</td>\n",
       "      <td>0</td>\n",
       "      <td>STON/O2. 3101282</td>\n",
       "      <td>7.9250</td>\n",
       "      <td>NaN</td>\n",
       "      <td>S</td>\n",
       "      <td>(25.0, 28.0]</td>\n",
       "      <td>(7.91, 8.662]</td>\n",
       "      <td>Miss</td>\n",
       "    </tr>\n",
       "    <tr>\n",
       "      <th>4</th>\n",
       "      <td>1</td>\n",
       "      <td>1</td>\n",
       "      <td>Futrelle, Mrs. Jacques Heath (Lily May Peel)</td>\n",
       "      <td>female</td>\n",
       "      <td>35.0</td>\n",
       "      <td>1</td>\n",
       "      <td>0</td>\n",
       "      <td>113803</td>\n",
       "      <td>53.1000</td>\n",
       "      <td>C123</td>\n",
       "      <td>S</td>\n",
       "      <td>(34.0, 38.0]</td>\n",
       "      <td>(52.369, 80.0]</td>\n",
       "      <td>Mrs</td>\n",
       "    </tr>\n",
       "    <tr>\n",
       "      <th>5</th>\n",
       "      <td>0</td>\n",
       "      <td>3</td>\n",
       "      <td>Allen, Mr. William Henry</td>\n",
       "      <td>male</td>\n",
       "      <td>35.0</td>\n",
       "      <td>0</td>\n",
       "      <td>0</td>\n",
       "      <td>373450</td>\n",
       "      <td>8.0500</td>\n",
       "      <td>NaN</td>\n",
       "      <td>S</td>\n",
       "      <td>(34.0, 38.0]</td>\n",
       "      <td>(7.91, 8.662]</td>\n",
       "      <td>Mr</td>\n",
       "    </tr>\n",
       "  </tbody>\n",
       "</table>\n",
       "</div>"
      ],
      "text/plain": [
       "             Survived  Pclass  \\\n",
       "PassengerId                     \n",
       "1                   0       3   \n",
       "2                   1       1   \n",
       "3                   1       3   \n",
       "4                   1       1   \n",
       "5                   0       3   \n",
       "\n",
       "                                                          Name     Sex   Age  \\\n",
       "PassengerId                                                                    \n",
       "1                                      Braund, Mr. Owen Harris    male  22.0   \n",
       "2            Cumings, Mrs. John Bradley (Florence Briggs Th...  female  38.0   \n",
       "3                                       Heikkinen, Miss. Laina  female  26.0   \n",
       "4                 Futrelle, Mrs. Jacques Heath (Lily May Peel)  female  35.0   \n",
       "5                                     Allen, Mr. William Henry    male  35.0   \n",
       "\n",
       "             SibSp  Parch            Ticket     Fare Cabin Embarked  \\\n",
       "PassengerId                                                           \n",
       "1                1      0         A/5 21171   7.2500   NaN        S   \n",
       "2                1      0          PC 17599  71.2833   C85        C   \n",
       "3                0      0  STON/O2. 3101282   7.9250   NaN        S   \n",
       "4                1      0            113803  53.1000  C123        S   \n",
       "5                0      0            373450   8.0500   NaN        S   \n",
       "\n",
       "                   Age_Surv       Fare_Surv Title  \n",
       "PassengerId                                        \n",
       "1            (20.125, 23.0]  (-0.001, 7.25]    Mr  \n",
       "2              (34.0, 38.0]  (52.369, 80.0]   Mrs  \n",
       "3              (25.0, 28.0]   (7.91, 8.662]  Miss  \n",
       "4              (34.0, 38.0]  (52.369, 80.0]   Mrs  \n",
       "5              (34.0, 38.0]   (7.91, 8.662]    Mr  "
      ]
     },
     "execution_count": 38,
     "metadata": {},
     "output_type": "execute_result"
    }
   ],
   "source": [
    "df_train_ml.head()"
   ]
  },
  {
   "cell_type": "markdown",
   "metadata": {},
   "source": [
    "### We already know that the number of family members aboard the ship influences the survival rate, lets create a feature to simplify that information."
   ]
  },
  {
   "cell_type": "markdown",
   "metadata": {},
   "source": [
    "### As said before, there are titles with specially high survivel rates: \"Miss\", \"Mrs\" and \"Master\". We must consider these three as good indicators. Lets create the \"Special_Group\" feature."
   ]
  },
  {
   "cell_type": "code",
   "execution_count": 39,
   "metadata": {},
   "outputs": [],
   "source": [
    "df_train_ml[\"Special_Group\"] = np.where((df_train_ml[\"Title\"] == \"Miss\") | (df_train_ml[\"Title\"] == \"Mrs\") | (df_train_ml[\"Title\"] == \"Master\") ,1,0)"
   ]
  },
  {
   "cell_type": "markdown",
   "metadata": {},
   "source": [
    "### To simplify and generalize the process we should write some python functions and create a pipeline, this will simplify our work."
   ]
  },
  {
   "cell_type": "code",
   "execution_count": 41,
   "metadata": {},
   "outputs": [],
   "source": [
    "def allinone(df,drop_list):  \n",
    "    df['Title'] = df['Name'].str.extract(' ([A-Za-z]+)\\.', expand=False)\n",
    "    \n",
    "    df[\"Special_Group\"] = np.where((df[\"Title\"] == \"Miss\") | (df[\"Title\"] == \"Mrs\") | (df[\"Title\"] == \"Master\") ,1,0)\n",
    "\n",
    "    title_mean_age = df.groupby(df[\"Title\"])[\"Age\"].mean()\n",
    "    for title in df[\"Title\"]:\n",
    "        df['Age'] = (np.where((df.Age.isnull()) & (df.Title== title),\n",
    "                          title_mean_age.loc[f\"{title}\"], df[\"Age\"]))     \n",
    "    if df[\"Age\"].isnull().sum() == 0:\n",
    "        print(\"Done! No more missing values in Age\")    \n",
    "        \n",
    "    df[\"Pclass\"] = df[\"Pclass\"].astype(object)\n",
    "    \n",
    "    df.loc[df[\"Age\"] <= 9, \"Age_Grade\"] = 0\n",
    "    df.loc[(df[\"Age\"] > 9) & (df[\"Age\"] <= 18), \"Age_Grade\"] = 1\n",
    "    df.loc[(df[\"Age\"] > 18) & (df[\"Age\"] <= 31), \"Age_Grade\"] = 2\n",
    "    df.loc[(df[\"Age\"] > 31) & (df[\"Age\"] <= 64), \"Age_Grade\"] = 3\n",
    "    df.loc[df[\"Age\"] > 64, \"Age_Grade\"] = 4\n",
    "    df[\"Age_Grade\"] = df[\"Age_Grade\"].astype(object)    \n",
    "    \n",
    "    main_port = df[\"Embarked\"].mode()[0]\n",
    "    df[\"Embarked\"] = df[\"Embarked\"].fillna(main_port)\n",
    "    \n",
    "    df[\"Family_Size\"] = df[\"SibSp\"] + df[\"Parch\"]\n",
    "    df[\"Small_Family\"] = np.where(df[\"Family_Size\"] <= 3,1,0)\n",
    "    df[\"Alone\"] = np.where(df[\"Family_Size\"] == 0,1,0)\n",
    "    \n",
    "    df.loc[df[\"Fare\"] < 11, \"Fare_Grade\"] = 0\n",
    "    df.loc[(df[\"Fare\"] >= 11) & (df[\"Fare\"] < 52), \"Fare_Grade\"] = 1\n",
    "    df.loc[df[\"Fare\"] >= 52, \"Fare_Grade\"] = 2\n",
    "    df[\"Fare_Grade\"] = df[\"Fare_Grade\"].astype(object)\n",
    "    \n",
    "    for feature in drop_list:\n",
    "        df.drop(feature,axis=1,inplace=True)\n",
    "    print(\"Done! dataframe ready for ML\")"
   ]
  },
  {
   "cell_type": "code",
   "execution_count": 42,
   "metadata": {},
   "outputs": [
    {
     "name": "stdout",
     "output_type": "stream",
     "text": [
      "Done! No more missing values in Age\n",
      "Done! dataframe ready for ML\n"
     ]
    }
   ],
   "source": [
    "drop_list = [\"Special_Group\",\"Family_Size\",\"Age\",\"SibSp\",\"Parch\",\"Name\",\"Ticket\",\"Fare\",\"Cabin\",\"Age_Surv\",\"Fare_Surv\",\"Title\"]\n",
    "df_train = df_train.set_index(\"PassengerId\")\n",
    "allinone(df_train,drop_list)"
   ]
  },
  {
   "cell_type": "markdown",
   "metadata": {},
   "source": [
    "### One last view of our dataframe. If our features are good, we proceed."
   ]
  },
  {
   "cell_type": "code",
   "execution_count": 43,
   "metadata": {},
   "outputs": [
    {
     "data": {
      "text/html": [
       "<div>\n",
       "<style scoped>\n",
       "    .dataframe tbody tr th:only-of-type {\n",
       "        vertical-align: middle;\n",
       "    }\n",
       "\n",
       "    .dataframe tbody tr th {\n",
       "        vertical-align: top;\n",
       "    }\n",
       "\n",
       "    .dataframe thead th {\n",
       "        text-align: right;\n",
       "    }\n",
       "</style>\n",
       "<table border=\"1\" class=\"dataframe\">\n",
       "  <thead>\n",
       "    <tr style=\"text-align: right;\">\n",
       "      <th></th>\n",
       "      <th>Survived</th>\n",
       "      <th>Pclass</th>\n",
       "      <th>Sex</th>\n",
       "      <th>Embarked</th>\n",
       "      <th>Age_Grade</th>\n",
       "      <th>Small_Family</th>\n",
       "      <th>Alone</th>\n",
       "      <th>Fare_Grade</th>\n",
       "    </tr>\n",
       "    <tr>\n",
       "      <th>PassengerId</th>\n",
       "      <th></th>\n",
       "      <th></th>\n",
       "      <th></th>\n",
       "      <th></th>\n",
       "      <th></th>\n",
       "      <th></th>\n",
       "      <th></th>\n",
       "      <th></th>\n",
       "    </tr>\n",
       "  </thead>\n",
       "  <tbody>\n",
       "    <tr>\n",
       "      <th>1</th>\n",
       "      <td>0</td>\n",
       "      <td>3</td>\n",
       "      <td>male</td>\n",
       "      <td>S</td>\n",
       "      <td>2</td>\n",
       "      <td>1</td>\n",
       "      <td>0</td>\n",
       "      <td>0</td>\n",
       "    </tr>\n",
       "    <tr>\n",
       "      <th>2</th>\n",
       "      <td>1</td>\n",
       "      <td>1</td>\n",
       "      <td>female</td>\n",
       "      <td>C</td>\n",
       "      <td>3</td>\n",
       "      <td>1</td>\n",
       "      <td>0</td>\n",
       "      <td>2</td>\n",
       "    </tr>\n",
       "    <tr>\n",
       "      <th>3</th>\n",
       "      <td>1</td>\n",
       "      <td>3</td>\n",
       "      <td>female</td>\n",
       "      <td>S</td>\n",
       "      <td>2</td>\n",
       "      <td>1</td>\n",
       "      <td>1</td>\n",
       "      <td>0</td>\n",
       "    </tr>\n",
       "    <tr>\n",
       "      <th>4</th>\n",
       "      <td>1</td>\n",
       "      <td>1</td>\n",
       "      <td>female</td>\n",
       "      <td>S</td>\n",
       "      <td>3</td>\n",
       "      <td>1</td>\n",
       "      <td>0</td>\n",
       "      <td>2</td>\n",
       "    </tr>\n",
       "    <tr>\n",
       "      <th>5</th>\n",
       "      <td>0</td>\n",
       "      <td>3</td>\n",
       "      <td>male</td>\n",
       "      <td>S</td>\n",
       "      <td>3</td>\n",
       "      <td>1</td>\n",
       "      <td>1</td>\n",
       "      <td>0</td>\n",
       "    </tr>\n",
       "    <tr>\n",
       "      <th>6</th>\n",
       "      <td>0</td>\n",
       "      <td>3</td>\n",
       "      <td>male</td>\n",
       "      <td>Q</td>\n",
       "      <td>3</td>\n",
       "      <td>1</td>\n",
       "      <td>1</td>\n",
       "      <td>0</td>\n",
       "    </tr>\n",
       "    <tr>\n",
       "      <th>7</th>\n",
       "      <td>0</td>\n",
       "      <td>1</td>\n",
       "      <td>male</td>\n",
       "      <td>S</td>\n",
       "      <td>3</td>\n",
       "      <td>1</td>\n",
       "      <td>1</td>\n",
       "      <td>1</td>\n",
       "    </tr>\n",
       "    <tr>\n",
       "      <th>8</th>\n",
       "      <td>0</td>\n",
       "      <td>3</td>\n",
       "      <td>male</td>\n",
       "      <td>S</td>\n",
       "      <td>0</td>\n",
       "      <td>0</td>\n",
       "      <td>0</td>\n",
       "      <td>1</td>\n",
       "    </tr>\n",
       "    <tr>\n",
       "      <th>9</th>\n",
       "      <td>1</td>\n",
       "      <td>3</td>\n",
       "      <td>female</td>\n",
       "      <td>S</td>\n",
       "      <td>2</td>\n",
       "      <td>1</td>\n",
       "      <td>0</td>\n",
       "      <td>1</td>\n",
       "    </tr>\n",
       "    <tr>\n",
       "      <th>10</th>\n",
       "      <td>1</td>\n",
       "      <td>2</td>\n",
       "      <td>female</td>\n",
       "      <td>C</td>\n",
       "      <td>1</td>\n",
       "      <td>1</td>\n",
       "      <td>0</td>\n",
       "      <td>1</td>\n",
       "    </tr>\n",
       "    <tr>\n",
       "      <th>11</th>\n",
       "      <td>1</td>\n",
       "      <td>3</td>\n",
       "      <td>female</td>\n",
       "      <td>S</td>\n",
       "      <td>0</td>\n",
       "      <td>1</td>\n",
       "      <td>0</td>\n",
       "      <td>1</td>\n",
       "    </tr>\n",
       "    <tr>\n",
       "      <th>12</th>\n",
       "      <td>1</td>\n",
       "      <td>1</td>\n",
       "      <td>female</td>\n",
       "      <td>S</td>\n",
       "      <td>3</td>\n",
       "      <td>1</td>\n",
       "      <td>1</td>\n",
       "      <td>1</td>\n",
       "    </tr>\n",
       "    <tr>\n",
       "      <th>13</th>\n",
       "      <td>0</td>\n",
       "      <td>3</td>\n",
       "      <td>male</td>\n",
       "      <td>S</td>\n",
       "      <td>2</td>\n",
       "      <td>1</td>\n",
       "      <td>1</td>\n",
       "      <td>0</td>\n",
       "    </tr>\n",
       "    <tr>\n",
       "      <th>14</th>\n",
       "      <td>0</td>\n",
       "      <td>3</td>\n",
       "      <td>male</td>\n",
       "      <td>S</td>\n",
       "      <td>3</td>\n",
       "      <td>0</td>\n",
       "      <td>0</td>\n",
       "      <td>1</td>\n",
       "    </tr>\n",
       "    <tr>\n",
       "      <th>15</th>\n",
       "      <td>0</td>\n",
       "      <td>3</td>\n",
       "      <td>female</td>\n",
       "      <td>S</td>\n",
       "      <td>1</td>\n",
       "      <td>1</td>\n",
       "      <td>1</td>\n",
       "      <td>0</td>\n",
       "    </tr>\n",
       "  </tbody>\n",
       "</table>\n",
       "</div>"
      ],
      "text/plain": [
       "             Survived Pclass     Sex Embarked Age_Grade  Small_Family  Alone  \\\n",
       "PassengerId                                                                    \n",
       "1                   0      3    male        S         2             1      0   \n",
       "2                   1      1  female        C         3             1      0   \n",
       "3                   1      3  female        S         2             1      1   \n",
       "4                   1      1  female        S         3             1      0   \n",
       "5                   0      3    male        S         3             1      1   \n",
       "6                   0      3    male        Q         3             1      1   \n",
       "7                   0      1    male        S         3             1      1   \n",
       "8                   0      3    male        S         0             0      0   \n",
       "9                   1      3  female        S         2             1      0   \n",
       "10                  1      2  female        C         1             1      0   \n",
       "11                  1      3  female        S         0             1      0   \n",
       "12                  1      1  female        S         3             1      1   \n",
       "13                  0      3    male        S         2             1      1   \n",
       "14                  0      3    male        S         3             0      0   \n",
       "15                  0      3  female        S         1             1      1   \n",
       "\n",
       "            Fare_Grade  \n",
       "PassengerId             \n",
       "1                    0  \n",
       "2                    2  \n",
       "3                    0  \n",
       "4                    2  \n",
       "5                    0  \n",
       "6                    0  \n",
       "7                    1  \n",
       "8                    1  \n",
       "9                    1  \n",
       "10                   1  \n",
       "11                   1  \n",
       "12                   1  \n",
       "13                   0  \n",
       "14                   1  \n",
       "15                   0  "
      ]
     },
     "execution_count": 43,
     "metadata": {},
     "output_type": "execute_result"
    }
   ],
   "source": [
    "df_train.head(15)"
   ]
  },
  {
   "cell_type": "markdown",
   "metadata": {},
   "source": [
    "# Using pandas' get_dummies method to create dummy variables. Very helpful for some Machine Learning Modules."
   ]
  },
  {
   "cell_type": "code",
   "execution_count": 44,
   "metadata": {},
   "outputs": [],
   "source": [
    "data = pd.get_dummies(df_train, prefix_sep='_')"
   ]
  },
  {
   "cell_type": "code",
   "execution_count": 45,
   "metadata": {},
   "outputs": [
    {
     "data": {
      "text/html": [
       "<div>\n",
       "<style scoped>\n",
       "    .dataframe tbody tr th:only-of-type {\n",
       "        vertical-align: middle;\n",
       "    }\n",
       "\n",
       "    .dataframe tbody tr th {\n",
       "        vertical-align: top;\n",
       "    }\n",
       "\n",
       "    .dataframe thead th {\n",
       "        text-align: right;\n",
       "    }\n",
       "</style>\n",
       "<table border=\"1\" class=\"dataframe\">\n",
       "  <thead>\n",
       "    <tr style=\"text-align: right;\">\n",
       "      <th></th>\n",
       "      <th>Survived</th>\n",
       "      <th>Small_Family</th>\n",
       "      <th>Alone</th>\n",
       "      <th>Pclass_1</th>\n",
       "      <th>Pclass_2</th>\n",
       "      <th>Pclass_3</th>\n",
       "      <th>Sex_female</th>\n",
       "      <th>Sex_male</th>\n",
       "      <th>Embarked_C</th>\n",
       "      <th>Embarked_Q</th>\n",
       "      <th>Embarked_S</th>\n",
       "      <th>Age_Grade_0.0</th>\n",
       "      <th>Age_Grade_1.0</th>\n",
       "      <th>Age_Grade_2.0</th>\n",
       "      <th>Age_Grade_3.0</th>\n",
       "      <th>Age_Grade_4.0</th>\n",
       "      <th>Fare_Grade_0.0</th>\n",
       "      <th>Fare_Grade_1.0</th>\n",
       "      <th>Fare_Grade_2.0</th>\n",
       "    </tr>\n",
       "    <tr>\n",
       "      <th>PassengerId</th>\n",
       "      <th></th>\n",
       "      <th></th>\n",
       "      <th></th>\n",
       "      <th></th>\n",
       "      <th></th>\n",
       "      <th></th>\n",
       "      <th></th>\n",
       "      <th></th>\n",
       "      <th></th>\n",
       "      <th></th>\n",
       "      <th></th>\n",
       "      <th></th>\n",
       "      <th></th>\n",
       "      <th></th>\n",
       "      <th></th>\n",
       "      <th></th>\n",
       "      <th></th>\n",
       "      <th></th>\n",
       "      <th></th>\n",
       "    </tr>\n",
       "  </thead>\n",
       "  <tbody>\n",
       "    <tr>\n",
       "      <th>1</th>\n",
       "      <td>0</td>\n",
       "      <td>1</td>\n",
       "      <td>0</td>\n",
       "      <td>0</td>\n",
       "      <td>0</td>\n",
       "      <td>1</td>\n",
       "      <td>0</td>\n",
       "      <td>1</td>\n",
       "      <td>0</td>\n",
       "      <td>0</td>\n",
       "      <td>1</td>\n",
       "      <td>0</td>\n",
       "      <td>0</td>\n",
       "      <td>1</td>\n",
       "      <td>0</td>\n",
       "      <td>0</td>\n",
       "      <td>1</td>\n",
       "      <td>0</td>\n",
       "      <td>0</td>\n",
       "    </tr>\n",
       "    <tr>\n",
       "      <th>2</th>\n",
       "      <td>1</td>\n",
       "      <td>1</td>\n",
       "      <td>0</td>\n",
       "      <td>1</td>\n",
       "      <td>0</td>\n",
       "      <td>0</td>\n",
       "      <td>1</td>\n",
       "      <td>0</td>\n",
       "      <td>1</td>\n",
       "      <td>0</td>\n",
       "      <td>0</td>\n",
       "      <td>0</td>\n",
       "      <td>0</td>\n",
       "      <td>0</td>\n",
       "      <td>1</td>\n",
       "      <td>0</td>\n",
       "      <td>0</td>\n",
       "      <td>0</td>\n",
       "      <td>1</td>\n",
       "    </tr>\n",
       "    <tr>\n",
       "      <th>3</th>\n",
       "      <td>1</td>\n",
       "      <td>1</td>\n",
       "      <td>1</td>\n",
       "      <td>0</td>\n",
       "      <td>0</td>\n",
       "      <td>1</td>\n",
       "      <td>1</td>\n",
       "      <td>0</td>\n",
       "      <td>0</td>\n",
       "      <td>0</td>\n",
       "      <td>1</td>\n",
       "      <td>0</td>\n",
       "      <td>0</td>\n",
       "      <td>1</td>\n",
       "      <td>0</td>\n",
       "      <td>0</td>\n",
       "      <td>1</td>\n",
       "      <td>0</td>\n",
       "      <td>0</td>\n",
       "    </tr>\n",
       "    <tr>\n",
       "      <th>4</th>\n",
       "      <td>1</td>\n",
       "      <td>1</td>\n",
       "      <td>0</td>\n",
       "      <td>1</td>\n",
       "      <td>0</td>\n",
       "      <td>0</td>\n",
       "      <td>1</td>\n",
       "      <td>0</td>\n",
       "      <td>0</td>\n",
       "      <td>0</td>\n",
       "      <td>1</td>\n",
       "      <td>0</td>\n",
       "      <td>0</td>\n",
       "      <td>0</td>\n",
       "      <td>1</td>\n",
       "      <td>0</td>\n",
       "      <td>0</td>\n",
       "      <td>0</td>\n",
       "      <td>1</td>\n",
       "    </tr>\n",
       "    <tr>\n",
       "      <th>5</th>\n",
       "      <td>0</td>\n",
       "      <td>1</td>\n",
       "      <td>1</td>\n",
       "      <td>0</td>\n",
       "      <td>0</td>\n",
       "      <td>1</td>\n",
       "      <td>0</td>\n",
       "      <td>1</td>\n",
       "      <td>0</td>\n",
       "      <td>0</td>\n",
       "      <td>1</td>\n",
       "      <td>0</td>\n",
       "      <td>0</td>\n",
       "      <td>0</td>\n",
       "      <td>1</td>\n",
       "      <td>0</td>\n",
       "      <td>1</td>\n",
       "      <td>0</td>\n",
       "      <td>0</td>\n",
       "    </tr>\n",
       "  </tbody>\n",
       "</table>\n",
       "</div>"
      ],
      "text/plain": [
       "             Survived  Small_Family  Alone  Pclass_1  Pclass_2  Pclass_3  \\\n",
       "PassengerId                                                                \n",
       "1                   0             1      0         0         0         1   \n",
       "2                   1             1      0         1         0         0   \n",
       "3                   1             1      1         0         0         1   \n",
       "4                   1             1      0         1         0         0   \n",
       "5                   0             1      1         0         0         1   \n",
       "\n",
       "             Sex_female  Sex_male  Embarked_C  Embarked_Q  Embarked_S  \\\n",
       "PassengerId                                                             \n",
       "1                     0         1           0           0           1   \n",
       "2                     1         0           1           0           0   \n",
       "3                     1         0           0           0           1   \n",
       "4                     1         0           0           0           1   \n",
       "5                     0         1           0           0           1   \n",
       "\n",
       "             Age_Grade_0.0  Age_Grade_1.0  Age_Grade_2.0  Age_Grade_3.0  \\\n",
       "PassengerId                                                               \n",
       "1                        0              0              1              0   \n",
       "2                        0              0              0              1   \n",
       "3                        0              0              1              0   \n",
       "4                        0              0              0              1   \n",
       "5                        0              0              0              1   \n",
       "\n",
       "             Age_Grade_4.0  Fare_Grade_0.0  Fare_Grade_1.0  Fare_Grade_2.0  \n",
       "PassengerId                                                                 \n",
       "1                        0               1               0               0  \n",
       "2                        0               0               0               1  \n",
       "3                        0               1               0               0  \n",
       "4                        0               0               0               1  \n",
       "5                        0               1               0               0  "
      ]
     },
     "execution_count": 45,
     "metadata": {},
     "output_type": "execute_result"
    }
   ],
   "source": [
    "data.head()"
   ]
  },
  {
   "cell_type": "markdown",
   "metadata": {},
   "source": [
    "# Now it's time for us to test some models!"
   ]
  },
  {
   "cell_type": "code",
   "execution_count": 46,
   "metadata": {},
   "outputs": [],
   "source": [
    "from sklearn.model_selection import train_test_split\n",
    "\n",
    "from sklearn.linear_model import LogisticRegression\n",
    "from sklearn.tree import DecisionTreeClassifier\n",
    "from sklearn.ensemble import RandomForestClassifier\n",
    "from sklearn.naive_bayes import GaussianNB\n",
    "from sklearn.svm import SVC\n",
    "from sklearn.ensemble import GradientBoostingClassifier\n",
    "\n",
    "from sklearn.metrics import accuracy_score"
   ]
  },
  {
   "cell_type": "markdown",
   "metadata": {},
   "source": [
    "### But first, we must split the data."
   ]
  },
  {
   "cell_type": "code",
   "execution_count": 47,
   "metadata": {},
   "outputs": [
    {
     "name": "stdout",
     "output_type": "stream",
     "text": [
      "(668, 18) (223, 18) (668,) (223,)\n"
     ]
    }
   ],
   "source": [
    "X = data.drop(\"Survived\", axis=1)\n",
    "y = data[\"Survived\"]\n",
    "\n",
    "SEED = 144\n",
    "np.random.seed(SEED)\n",
    "\n",
    "train_X, test_X, train_y, test_y = train_test_split(X,y, test_size=0.25)\n",
    "print(train_X.shape, test_X.shape, train_y.shape, test_y.shape)"
   ]
  },
  {
   "cell_type": "markdown",
   "metadata": {},
   "source": [
    "### Using Logistic Regression:"
   ]
  },
  {
   "cell_type": "code",
   "execution_count": 48,
   "metadata": {},
   "outputs": [
    {
     "name": "stdout",
     "output_type": "stream",
     "text": [
      "Train score: 81.29\n",
      "accuracy_score: 80.27\n"
     ]
    }
   ],
   "source": [
    "logistic_reg_model = LogisticRegression()\n",
    "logistic_reg_model.fit(train_X, train_y)\n",
    "logistic_y_pred = logistic_reg_model.predict(test_X)\n",
    "logistic_reg_score = round(logistic_reg_model.score(train_X, train_y)*100,2)\n",
    "print(\"Train score:\",logistic_reg_score)\n",
    "print(\"accuracy_score:\", round(accuracy_score(logistic_y_pred,test_y)*100,2))"
   ]
  },
  {
   "cell_type": "markdown",
   "metadata": {},
   "source": [
    "### Using Decision Tree"
   ]
  },
  {
   "cell_type": "code",
   "execution_count": 49,
   "metadata": {},
   "outputs": [
    {
     "name": "stdout",
     "output_type": "stream",
     "text": [
      "Train score: 87.57\n",
      "accuracy_score: 81.17\n"
     ]
    }
   ],
   "source": [
    "decision_tree_model = DecisionTreeClassifier()\n",
    "decision_tree_model.fit(train_X,train_y)\n",
    "tree_y_pred = decision_tree_model.predict(test_X)\n",
    "decision_tree_score = round(decision_tree_model.score(train_X, train_y)*100,2)\n",
    "print(\"Train score:\",decision_tree_score)\n",
    "print(\"accuracy_score:\", round(accuracy_score(tree_y_pred,test_y)*100,2))"
   ]
  },
  {
   "cell_type": "markdown",
   "metadata": {},
   "source": [
    "### Using Random Forests"
   ]
  },
  {
   "cell_type": "code",
   "execution_count": 50,
   "metadata": {},
   "outputs": [
    {
     "name": "stdout",
     "output_type": "stream",
     "text": [
      "Train score: 87.57\n",
      "accuracy_score: 80.72\n"
     ]
    }
   ],
   "source": [
    "random_forest_model = RandomForestClassifier()\n",
    "random_forest_model.fit(train_X,train_y)\n",
    "forest_y_pred = random_forest_model.predict(test_X)\n",
    "random_forest_score = round(random_forest_model.score(train_X,train_y)*100,2)\n",
    "print(\"Train score:\",random_forest_score)\n",
    "print(\"accuracy_score:\", round(accuracy_score(forest_y_pred,test_y)*100,2))"
   ]
  },
  {
   "cell_type": "markdown",
   "metadata": {},
   "source": [
    "### Using Naive Bayes"
   ]
  },
  {
   "cell_type": "code",
   "execution_count": 51,
   "metadata": {},
   "outputs": [
    {
     "name": "stdout",
     "output_type": "stream",
     "text": [
      "Train score: 80.09\n",
      "accuracy_score: 79.82\n"
     ]
    }
   ],
   "source": [
    "naive_bayes_model = GaussianNB()\n",
    "naive_bayes_model.fit(train_X,train_y)\n",
    "naive_y_pred = naive_bayes_model.predict(test_X)\n",
    "naive_bayes_score = round(naive_bayes_model.score(train_X,train_y)*100,2)\n",
    "print(\"Train score:\",naive_bayes_score)\n",
    "print(\"accuracy_score:\", round(accuracy_score(naive_y_pred,test_y)*100,2))"
   ]
  },
  {
   "cell_type": "markdown",
   "metadata": {},
   "source": [
    "### Using SVC"
   ]
  },
  {
   "cell_type": "code",
   "execution_count": 52,
   "metadata": {},
   "outputs": [
    {
     "name": "stdout",
     "output_type": "stream",
     "text": [
      "Train score: 85.18\n",
      "accuracy_score: 82.06\n"
     ]
    }
   ],
   "source": [
    "svc_model = SVC()\n",
    "svc_model.fit(train_X,train_y)\n",
    "svc_y_pred = svc_model.predict(test_X)\n",
    "svc_score = round(svc_model.score(train_X,train_y)*100,2)\n",
    "print(\"Train score:\",svc_score)\n",
    "print(\"accuracy_score:\", round(accuracy_score(svc_y_pred,test_y)*100,2))"
   ]
  },
  {
   "cell_type": "markdown",
   "metadata": {},
   "source": [
    "### Using Gradient Boosting Classifier"
   ]
  },
  {
   "cell_type": "code",
   "execution_count": 53,
   "metadata": {},
   "outputs": [
    {
     "name": "stdout",
     "output_type": "stream",
     "text": [
      "Train score: 86.078\n",
      "accuracy_score: 81.17\n"
     ]
    }
   ],
   "source": [
    "gradient_boosting_model = GradientBoostingClassifier()\n",
    "gradient_boosting_model.fit(train_X,train_y)\n",
    "gradient_y_pred = gradient_boosting_model.predict(test_X)\n",
    "gradient_boosting_score = round(gradient_boosting_model.score(train_X,train_y)*100,3)\n",
    "print(\"Train score:\",gradient_boosting_score)\n",
    "print(\"accuracy_score:\", round(accuracy_score(gradient_y_pred,test_y)*100,2))"
   ]
  },
  {
   "cell_type": "code",
   "execution_count": 54,
   "metadata": {},
   "outputs": [
    {
     "name": "stdout",
     "output_type": "stream",
     "text": [
      "DecisonTreeClassifier accuracy: 81.17\n",
      "RandomForestClassifier accuracy: 80.72\n",
      "GradientBoostingClassifier accuracy: 81.17\n",
      "SVC accuracy: 82.06\n"
     ]
    }
   ],
   "source": [
    "print(\"DecisonTreeClassifier accuracy:\", round(accuracy_score(tree_y_pred,test_y)*100,2))\n",
    "print(\"RandomForestClassifier accuracy:\",round(accuracy_score(forest_y_pred,test_y)*100,2))\n",
    "print(\"GradientBoostingClassifier accuracy:\", round(accuracy_score(gradient_y_pred,test_y)*100,2))\n",
    "print(\"SVC accuracy:\", round(accuracy_score(svc_y_pred,test_y)*100,2))"
   ]
  },
  {
   "cell_type": "markdown",
   "metadata": {},
   "source": [
    "# Clearly we get better results using SVC. Lets get the test dataframe and apply our functions and process it."
   ]
  },
  {
   "cell_type": "code",
   "execution_count": 59,
   "metadata": {},
   "outputs": [
    {
     "ename": "KeyError",
     "evalue": "\"None of ['PassengerId'] are in the columns\"",
     "output_type": "error",
     "traceback": [
      "\u001b[1;31m---------------------------------------------------------------------------\u001b[0m",
      "\u001b[1;31mKeyError\u001b[0m                                  Traceback (most recent call last)",
      "\u001b[1;32m<ipython-input-59-bfb227464d49>\u001b[0m in \u001b[0;36m<module>\u001b[1;34m\u001b[0m\n\u001b[0;32m      1\u001b[0m \u001b[1;31m# The drop list takes all the features we dont want in our predictions\u001b[0m\u001b[1;33m\u001b[0m\u001b[1;33m\u001b[0m\u001b[1;33m\u001b[0m\u001b[0m\n\u001b[0;32m      2\u001b[0m \u001b[0mdrop_list\u001b[0m \u001b[1;33m=\u001b[0m \u001b[1;33m[\u001b[0m\u001b[1;34m\"Special_Group\"\u001b[0m\u001b[1;33m,\u001b[0m\u001b[1;34m\"Family_Size\"\u001b[0m\u001b[1;33m,\u001b[0m\u001b[1;34m\"Age\"\u001b[0m\u001b[1;33m,\u001b[0m\u001b[1;34m\"SibSp\"\u001b[0m\u001b[1;33m,\u001b[0m\u001b[1;34m\"Parch\"\u001b[0m\u001b[1;33m,\u001b[0m\u001b[1;34m\"Name\"\u001b[0m\u001b[1;33m,\u001b[0m\u001b[1;34m\"Ticket\"\u001b[0m\u001b[1;33m,\u001b[0m\u001b[1;34m\"Fare\"\u001b[0m\u001b[1;33m,\u001b[0m\u001b[1;34m\"Cabin\"\u001b[0m\u001b[1;33m,\u001b[0m\u001b[1;34m\"Title\"\u001b[0m\u001b[1;33m]\u001b[0m\u001b[1;33m\u001b[0m\u001b[1;33m\u001b[0m\u001b[0m\n\u001b[1;32m----> 3\u001b[1;33m \u001b[0mdf_test\u001b[0m \u001b[1;33m=\u001b[0m \u001b[0mdf_test\u001b[0m\u001b[1;33m.\u001b[0m\u001b[0mset_index\u001b[0m\u001b[1;33m(\u001b[0m\u001b[1;34m\"PassengerId\"\u001b[0m\u001b[1;33m)\u001b[0m\u001b[1;33m\u001b[0m\u001b[1;33m\u001b[0m\u001b[0m\n\u001b[0m\u001b[0;32m      4\u001b[0m \u001b[0mallinone\u001b[0m\u001b[1;33m(\u001b[0m\u001b[0mdf_test\u001b[0m\u001b[1;33m,\u001b[0m\u001b[0mdrop_list\u001b[0m\u001b[1;33m)\u001b[0m\u001b[1;33m\u001b[0m\u001b[1;33m\u001b[0m\u001b[0m\n\u001b[0;32m      5\u001b[0m \u001b[0mdf_test\u001b[0m\u001b[1;33m.\u001b[0m\u001b[0mhead\u001b[0m\u001b[1;33m(\u001b[0m\u001b[1;33m)\u001b[0m\u001b[1;33m\u001b[0m\u001b[1;33m\u001b[0m\u001b[0m\n",
      "\u001b[1;32m~\\Anaconda3\\envs\\Ambiente_Luan\\lib\\site-packages\\pandas\\core\\frame.py\u001b[0m in \u001b[0;36mset_index\u001b[1;34m(self, keys, drop, append, inplace, verify_integrity)\u001b[0m\n\u001b[0;32m   4301\u001b[0m \u001b[1;33m\u001b[0m\u001b[0m\n\u001b[0;32m   4302\u001b[0m         \u001b[1;32mif\u001b[0m \u001b[0mmissing\u001b[0m\u001b[1;33m:\u001b[0m\u001b[1;33m\u001b[0m\u001b[1;33m\u001b[0m\u001b[0m\n\u001b[1;32m-> 4303\u001b[1;33m             \u001b[1;32mraise\u001b[0m \u001b[0mKeyError\u001b[0m\u001b[1;33m(\u001b[0m\u001b[1;34mf\"None of {missing} are in the columns\"\u001b[0m\u001b[1;33m)\u001b[0m\u001b[1;33m\u001b[0m\u001b[1;33m\u001b[0m\u001b[0m\n\u001b[0m\u001b[0;32m   4304\u001b[0m \u001b[1;33m\u001b[0m\u001b[0m\n\u001b[0;32m   4305\u001b[0m         \u001b[1;32mif\u001b[0m \u001b[0minplace\u001b[0m\u001b[1;33m:\u001b[0m\u001b[1;33m\u001b[0m\u001b[1;33m\u001b[0m\u001b[0m\n",
      "\u001b[1;31mKeyError\u001b[0m: \"None of ['PassengerId'] are in the columns\""
     ]
    }
   ],
   "source": [
    "# The drop list takes all the features we dont want in our predictions \n",
    "drop_list = [\"Special_Group\",\"Family_Size\",\"Age\",\"SibSp\",\"Parch\",\"Name\",\"Ticket\",\"Fare\",\"Cabin\",\"Title\"]\n",
    "df_test = df_test.set_index(\"PassengerId\")\n",
    "allinone(df_test,drop_list)\n",
    "df_test.head()"
   ]
  },
  {
   "cell_type": "markdown",
   "metadata": {},
   "source": [
    "### Using pd.get_dummies() to transform all our features in binary independent features. This step is important to avoid misinterpretation, some models are very sensitive to numerical magnitude."
   ]
  },
  {
   "cell_type": "code",
   "execution_count": 60,
   "metadata": {},
   "outputs": [
    {
     "data": {
      "text/html": [
       "<div>\n",
       "<style scoped>\n",
       "    .dataframe tbody tr th:only-of-type {\n",
       "        vertical-align: middle;\n",
       "    }\n",
       "\n",
       "    .dataframe tbody tr th {\n",
       "        vertical-align: top;\n",
       "    }\n",
       "\n",
       "    .dataframe thead th {\n",
       "        text-align: right;\n",
       "    }\n",
       "</style>\n",
       "<table border=\"1\" class=\"dataframe\">\n",
       "  <thead>\n",
       "    <tr style=\"text-align: right;\">\n",
       "      <th></th>\n",
       "      <th>Small_Family</th>\n",
       "      <th>Alone</th>\n",
       "      <th>Pclass_1</th>\n",
       "      <th>Pclass_2</th>\n",
       "      <th>Pclass_3</th>\n",
       "      <th>Sex_female</th>\n",
       "      <th>Sex_male</th>\n",
       "      <th>Embarked_C</th>\n",
       "      <th>Embarked_Q</th>\n",
       "      <th>Embarked_S</th>\n",
       "      <th>Age_Grade_0.0</th>\n",
       "      <th>Age_Grade_1.0</th>\n",
       "      <th>Age_Grade_2.0</th>\n",
       "      <th>Age_Grade_3.0</th>\n",
       "      <th>Age_Grade_4.0</th>\n",
       "      <th>Fare_Grade_0.0</th>\n",
       "      <th>Fare_Grade_1.0</th>\n",
       "      <th>Fare_Grade_2.0</th>\n",
       "    </tr>\n",
       "    <tr>\n",
       "      <th>PassengerId</th>\n",
       "      <th></th>\n",
       "      <th></th>\n",
       "      <th></th>\n",
       "      <th></th>\n",
       "      <th></th>\n",
       "      <th></th>\n",
       "      <th></th>\n",
       "      <th></th>\n",
       "      <th></th>\n",
       "      <th></th>\n",
       "      <th></th>\n",
       "      <th></th>\n",
       "      <th></th>\n",
       "      <th></th>\n",
       "      <th></th>\n",
       "      <th></th>\n",
       "      <th></th>\n",
       "      <th></th>\n",
       "    </tr>\n",
       "  </thead>\n",
       "  <tbody>\n",
       "    <tr>\n",
       "      <th>892</th>\n",
       "      <td>1</td>\n",
       "      <td>1</td>\n",
       "      <td>0</td>\n",
       "      <td>0</td>\n",
       "      <td>1</td>\n",
       "      <td>0</td>\n",
       "      <td>1</td>\n",
       "      <td>0</td>\n",
       "      <td>1</td>\n",
       "      <td>0</td>\n",
       "      <td>0</td>\n",
       "      <td>0</td>\n",
       "      <td>0</td>\n",
       "      <td>1</td>\n",
       "      <td>0</td>\n",
       "      <td>1</td>\n",
       "      <td>0</td>\n",
       "      <td>0</td>\n",
       "    </tr>\n",
       "    <tr>\n",
       "      <th>893</th>\n",
       "      <td>1</td>\n",
       "      <td>0</td>\n",
       "      <td>0</td>\n",
       "      <td>0</td>\n",
       "      <td>1</td>\n",
       "      <td>1</td>\n",
       "      <td>0</td>\n",
       "      <td>0</td>\n",
       "      <td>0</td>\n",
       "      <td>1</td>\n",
       "      <td>0</td>\n",
       "      <td>0</td>\n",
       "      <td>0</td>\n",
       "      <td>1</td>\n",
       "      <td>0</td>\n",
       "      <td>1</td>\n",
       "      <td>0</td>\n",
       "      <td>0</td>\n",
       "    </tr>\n",
       "    <tr>\n",
       "      <th>894</th>\n",
       "      <td>1</td>\n",
       "      <td>1</td>\n",
       "      <td>0</td>\n",
       "      <td>1</td>\n",
       "      <td>0</td>\n",
       "      <td>0</td>\n",
       "      <td>1</td>\n",
       "      <td>0</td>\n",
       "      <td>1</td>\n",
       "      <td>0</td>\n",
       "      <td>0</td>\n",
       "      <td>0</td>\n",
       "      <td>0</td>\n",
       "      <td>1</td>\n",
       "      <td>0</td>\n",
       "      <td>1</td>\n",
       "      <td>0</td>\n",
       "      <td>0</td>\n",
       "    </tr>\n",
       "    <tr>\n",
       "      <th>895</th>\n",
       "      <td>1</td>\n",
       "      <td>1</td>\n",
       "      <td>0</td>\n",
       "      <td>0</td>\n",
       "      <td>1</td>\n",
       "      <td>0</td>\n",
       "      <td>1</td>\n",
       "      <td>0</td>\n",
       "      <td>0</td>\n",
       "      <td>1</td>\n",
       "      <td>0</td>\n",
       "      <td>0</td>\n",
       "      <td>1</td>\n",
       "      <td>0</td>\n",
       "      <td>0</td>\n",
       "      <td>1</td>\n",
       "      <td>0</td>\n",
       "      <td>0</td>\n",
       "    </tr>\n",
       "    <tr>\n",
       "      <th>896</th>\n",
       "      <td>1</td>\n",
       "      <td>0</td>\n",
       "      <td>0</td>\n",
       "      <td>0</td>\n",
       "      <td>1</td>\n",
       "      <td>1</td>\n",
       "      <td>0</td>\n",
       "      <td>0</td>\n",
       "      <td>0</td>\n",
       "      <td>1</td>\n",
       "      <td>0</td>\n",
       "      <td>0</td>\n",
       "      <td>1</td>\n",
       "      <td>0</td>\n",
       "      <td>0</td>\n",
       "      <td>0</td>\n",
       "      <td>1</td>\n",
       "      <td>0</td>\n",
       "    </tr>\n",
       "  </tbody>\n",
       "</table>\n",
       "</div>"
      ],
      "text/plain": [
       "             Small_Family  Alone  Pclass_1  Pclass_2  Pclass_3  Sex_female  \\\n",
       "PassengerId                                                                  \n",
       "892                     1      1         0         0         1           0   \n",
       "893                     1      0         0         0         1           1   \n",
       "894                     1      1         0         1         0           0   \n",
       "895                     1      1         0         0         1           0   \n",
       "896                     1      0         0         0         1           1   \n",
       "\n",
       "             Sex_male  Embarked_C  Embarked_Q  Embarked_S  Age_Grade_0.0  \\\n",
       "PassengerId                                                                \n",
       "892                 1           0           1           0              0   \n",
       "893                 0           0           0           1              0   \n",
       "894                 1           0           1           0              0   \n",
       "895                 1           0           0           1              0   \n",
       "896                 0           0           0           1              0   \n",
       "\n",
       "             Age_Grade_1.0  Age_Grade_2.0  Age_Grade_3.0  Age_Grade_4.0  \\\n",
       "PassengerId                                                               \n",
       "892                      0              0              1              0   \n",
       "893                      0              0              1              0   \n",
       "894                      0              0              1              0   \n",
       "895                      0              1              0              0   \n",
       "896                      0              1              0              0   \n",
       "\n",
       "             Fare_Grade_0.0  Fare_Grade_1.0  Fare_Grade_2.0  \n",
       "PassengerId                                                  \n",
       "892                       1               0               0  \n",
       "893                       1               0               0  \n",
       "894                       1               0               0  \n",
       "895                       1               0               0  \n",
       "896                       0               1               0  "
      ]
     },
     "execution_count": 60,
     "metadata": {},
     "output_type": "execute_result"
    }
   ],
   "source": [
    "# Using pd.get_dummies() to transform all our features in categoric type. this is a good move, specially\n",
    "data_test = pd.get_dummies(df_test, prefix_sep='_')\n",
    "data_test.head()"
   ]
  },
  {
   "cell_type": "markdown",
   "metadata": {},
   "source": [
    "# Now we have our test dataframe ready, lets get the predictions for the most acurate ones into a .csv file, respecitng the kaggle submission format."
   ]
  },
  {
   "cell_type": "markdown",
   "metadata": {},
   "source": [
    "# Kaggle submissions:"
   ]
  },
  {
   "cell_type": "markdown",
   "metadata": {},
   "source": [
    "### Using SVC:"
   ]
  },
  {
   "cell_type": "markdown",
   "metadata": {},
   "source": [
    "### Using Gradient Boosting Classifier:"
   ]
  },
  {
   "cell_type": "code",
   "execution_count": 58,
   "metadata": {},
   "outputs": [],
   "source": [
    "#data_test\n",
    "#data_test[\"Survived\"] = gradient_boosting_model.predict(data_test).astype(int)\n",
    "#data_test = data_test.reset_index()\n",
    "#data_test[[\"PassengerId\",\"Survived\"]].to_csv(\"submission2GBC.csv\",index=False)"
   ]
  },
  {
   "cell_type": "code",
   "execution_count": 57,
   "metadata": {},
   "outputs": [],
   "source": [
    "data_test[\"Survived\"] = svc_model.predict(data_test).astype(int)\n",
    "data_test = data_test.reset_index()\n",
    "data_test[[\"PassengerId\",\"Survived\"]].to_csv(\"submission1SVC.csv\",index=False)"
   ]
  },
  {
   "cell_type": "markdown",
   "metadata": {},
   "source": [
    "# Kaggle Results:\n",
    "### Gradient Boosting Classifier: 77.03%\n",
    "### SVC: 77.99%"
   ]
  },
  {
   "cell_type": "code",
   "execution_count": null,
   "metadata": {},
   "outputs": [],
   "source": []
  }
 ],
 "metadata": {
  "kernelspec": {
   "display_name": "Python 3",
   "language": "python",
   "name": "python3"
  },
  "language_info": {
   "codemirror_mode": {
    "name": "ipython",
    "version": 3
   },
   "file_extension": ".py",
   "mimetype": "text/x-python",
   "name": "python",
   "nbconvert_exporter": "python",
   "pygments_lexer": "ipython3",
   "version": "3.7.7"
  }
 },
 "nbformat": 4,
 "nbformat_minor": 2
}
