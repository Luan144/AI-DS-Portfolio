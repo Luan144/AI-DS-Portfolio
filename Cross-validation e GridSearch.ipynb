{
 "cells": [
  {
   "cell_type": "markdown",
   "metadata": {},
   "source": [
    "### Esse notebook tem o objetivo de apresentar com teoria e aplicação uma técnica de tuning de hiperparâmetros e uma técnica de validação cruzada, respectivamente Grid Search e K-fold.\n",
    "### Para essa demonstração será usado o dataset do desafio \"Titanic - Machine Learning from Disaster\" da plataforma Kaggle por se tratar de um problema com complexidade suficiente para que seja possível observar os impactos de cada técnica nos resultados obtidos.\n",
    "### Dataset disponível em https://www.kaggle.com/c/titanic/data"
   ]
  },
  {
   "cell_type": "code",
   "execution_count": 1,
   "metadata": {},
   "outputs": [],
   "source": [
    "import pandas as pd\n",
    "import numpy as np\n",
    "import matplotlib.pyplot as plt"
   ]
  },
  {
   "cell_type": "code",
   "execution_count": 2,
   "metadata": {},
   "outputs": [
    {
     "data": {
      "text/html": [
       "<div>\n",
       "<style scoped>\n",
       "    .dataframe tbody tr th:only-of-type {\n",
       "        vertical-align: middle;\n",
       "    }\n",
       "\n",
       "    .dataframe tbody tr th {\n",
       "        vertical-align: top;\n",
       "    }\n",
       "\n",
       "    .dataframe thead th {\n",
       "        text-align: right;\n",
       "    }\n",
       "</style>\n",
       "<table border=\"1\" class=\"dataframe\">\n",
       "  <thead>\n",
       "    <tr style=\"text-align: right;\">\n",
       "      <th></th>\n",
       "      <th>Survived</th>\n",
       "      <th>Pclass</th>\n",
       "      <th>Name</th>\n",
       "      <th>Sex</th>\n",
       "      <th>Age</th>\n",
       "      <th>SibSp</th>\n",
       "      <th>Parch</th>\n",
       "      <th>Ticket</th>\n",
       "      <th>Fare</th>\n",
       "      <th>Cabin</th>\n",
       "      <th>Embarked</th>\n",
       "    </tr>\n",
       "    <tr>\n",
       "      <th>PassengerId</th>\n",
       "      <th></th>\n",
       "      <th></th>\n",
       "      <th></th>\n",
       "      <th></th>\n",
       "      <th></th>\n",
       "      <th></th>\n",
       "      <th></th>\n",
       "      <th></th>\n",
       "      <th></th>\n",
       "      <th></th>\n",
       "      <th></th>\n",
       "    </tr>\n",
       "  </thead>\n",
       "  <tbody>\n",
       "    <tr>\n",
       "      <th>1</th>\n",
       "      <td>0</td>\n",
       "      <td>3</td>\n",
       "      <td>Braund, Mr. Owen Harris</td>\n",
       "      <td>male</td>\n",
       "      <td>22.0</td>\n",
       "      <td>1</td>\n",
       "      <td>0</td>\n",
       "      <td>A/5 21171</td>\n",
       "      <td>7.2500</td>\n",
       "      <td>NaN</td>\n",
       "      <td>S</td>\n",
       "    </tr>\n",
       "    <tr>\n",
       "      <th>2</th>\n",
       "      <td>1</td>\n",
       "      <td>1</td>\n",
       "      <td>Cumings, Mrs. John Bradley (Florence Briggs Th...</td>\n",
       "      <td>female</td>\n",
       "      <td>38.0</td>\n",
       "      <td>1</td>\n",
       "      <td>0</td>\n",
       "      <td>PC 17599</td>\n",
       "      <td>71.2833</td>\n",
       "      <td>C85</td>\n",
       "      <td>C</td>\n",
       "    </tr>\n",
       "    <tr>\n",
       "      <th>3</th>\n",
       "      <td>1</td>\n",
       "      <td>3</td>\n",
       "      <td>Heikkinen, Miss. Laina</td>\n",
       "      <td>female</td>\n",
       "      <td>26.0</td>\n",
       "      <td>0</td>\n",
       "      <td>0</td>\n",
       "      <td>STON/O2. 3101282</td>\n",
       "      <td>7.9250</td>\n",
       "      <td>NaN</td>\n",
       "      <td>S</td>\n",
       "    </tr>\n",
       "    <tr>\n",
       "      <th>4</th>\n",
       "      <td>1</td>\n",
       "      <td>1</td>\n",
       "      <td>Futrelle, Mrs. Jacques Heath (Lily May Peel)</td>\n",
       "      <td>female</td>\n",
       "      <td>35.0</td>\n",
       "      <td>1</td>\n",
       "      <td>0</td>\n",
       "      <td>113803</td>\n",
       "      <td>53.1000</td>\n",
       "      <td>C123</td>\n",
       "      <td>S</td>\n",
       "    </tr>\n",
       "    <tr>\n",
       "      <th>5</th>\n",
       "      <td>0</td>\n",
       "      <td>3</td>\n",
       "      <td>Allen, Mr. William Henry</td>\n",
       "      <td>male</td>\n",
       "      <td>35.0</td>\n",
       "      <td>0</td>\n",
       "      <td>0</td>\n",
       "      <td>373450</td>\n",
       "      <td>8.0500</td>\n",
       "      <td>NaN</td>\n",
       "      <td>S</td>\n",
       "    </tr>\n",
       "  </tbody>\n",
       "</table>\n",
       "</div>"
      ],
      "text/plain": [
       "             Survived  Pclass  \\\n",
       "PassengerId                     \n",
       "1                   0       3   \n",
       "2                   1       1   \n",
       "3                   1       3   \n",
       "4                   1       1   \n",
       "5                   0       3   \n",
       "\n",
       "                                                          Name     Sex   Age  \\\n",
       "PassengerId                                                                    \n",
       "1                                      Braund, Mr. Owen Harris    male  22.0   \n",
       "2            Cumings, Mrs. John Bradley (Florence Briggs Th...  female  38.0   \n",
       "3                                       Heikkinen, Miss. Laina  female  26.0   \n",
       "4                 Futrelle, Mrs. Jacques Heath (Lily May Peel)  female  35.0   \n",
       "5                                     Allen, Mr. William Henry    male  35.0   \n",
       "\n",
       "             SibSp  Parch            Ticket     Fare Cabin Embarked  \n",
       "PassengerId                                                          \n",
       "1                1      0         A/5 21171   7.2500   NaN        S  \n",
       "2                1      0          PC 17599  71.2833   C85        C  \n",
       "3                0      0  STON/O2. 3101282   7.9250   NaN        S  \n",
       "4                1      0            113803  53.1000  C123        S  \n",
       "5                0      0            373450   8.0500   NaN        S  "
      ]
     },
     "execution_count": 2,
     "metadata": {},
     "output_type": "execute_result"
    }
   ],
   "source": [
    "df_inic = pd.read_csv('dados_titanic/train.csv',index_col='PassengerId')\n",
    "df_inic.head()"
   ]
  },
  {
   "cell_type": "code",
   "execution_count": 3,
   "metadata": {},
   "outputs": [
    {
     "name": "stdout",
     "output_type": "stream",
     "text": [
      "<class 'pandas.core.frame.DataFrame'>\n",
      "Int64Index: 891 entries, 1 to 891\n",
      "Data columns (total 11 columns):\n",
      " #   Column    Non-Null Count  Dtype  \n",
      "---  ------    --------------  -----  \n",
      " 0   Survived  891 non-null    int64  \n",
      " 1   Pclass    891 non-null    int64  \n",
      " 2   Name      891 non-null    object \n",
      " 3   Sex       891 non-null    object \n",
      " 4   Age       714 non-null    float64\n",
      " 5   SibSp     891 non-null    int64  \n",
      " 6   Parch     891 non-null    int64  \n",
      " 7   Ticket    891 non-null    object \n",
      " 8   Fare      891 non-null    float64\n",
      " 9   Cabin     204 non-null    object \n",
      " 10  Embarked  889 non-null    object \n",
      "dtypes: float64(2), int64(4), object(5)\n",
      "memory usage: 83.5+ KB\n"
     ]
    }
   ],
   "source": [
    "df_inic.info()"
   ]
  },
  {
   "cell_type": "markdown",
   "metadata": {},
   "source": [
    "Para este objetivo iremos utilizar apenas as features: \"Survived\",\"Sex\",\"Age\", \"SibSp\" e \"Parch\". Observando as informações acima é possível notar que \"Age\" possui valores faltantes. Esse problema deve ser tratado, pois há modelos de ML que não funcionam quando há campos inválidos nos dados.\n",
    "\n",
    "Nota-se também que SibSp e Parch são referentes à familiares abordo, Sendo a primeira referente a irmãos ou cônjuge e a segunda referente a pais ou filhos. Essas variáveis serão utilizadas para a criação de outras duas, \"Small_family\" e \"Alone\". Respectivamente inidcam se o passageiro possui de três a um membro da família abordo. A segunda indica se o apssageiro não possui membros da família abordo."
   ]
  },
  {
   "cell_type": "code",
   "execution_count": 4,
   "metadata": {},
   "outputs": [],
   "source": [
    "def fill_age(df):\n",
    "    '''Obtém as idades médias por cada título dos passageiros e preenche os valores faltantes\n",
    "       utilizando este mesmo discriminador'''\n",
    "    \n",
    "    df['Title'] = df['Name'].str.extract(' ([A-Za-z]+)\\.', expand=False)\n",
    "\n",
    "    title_mean_age = df.groupby(df[\"Title\"])[\"Age\"].mean()\n",
    "    for title in df[\"Title\"]:\n",
    "        df['Age'] = (np.where((df.Age.isnull()) & (df.Title== title),\n",
    "                          title_mean_age.loc[f\"{title}\"], df[\"Age\"]))     \n",
    "    if df[\"Age\"].isnull().sum() == 0:\n",
    "        print(\"Done! No more missing values in Age\")\n",
    "\n",
    "def remove_features(df,drop_list):\n",
    "    '''Remove features do dataset de acordo com a drop_list.'''\n",
    "    \n",
    "    for feature in drop_list:\n",
    "        df.drop(feature,axis=1,inplace=True)\n",
    "        \n",
    "def create_family(df):\n",
    "    '''Cria as features 'Family_Size', 'Small_Family' e 'Alone'.'''\n",
    "    \n",
    "    df[\"Family_Size\"] = df[\"SibSp\"] + df[\"Parch\"]\n",
    "    df[\"Small_Family\"] = np.where(df[\"Family_Size\"] <= 3,1,0)\n",
    "    df[\"Alone\"] = np.where(df[\"Family_Size\"] == 0,1,0)\n"
   ]
  },
  {
   "cell_type": "code",
   "execution_count": 5,
   "metadata": {},
   "outputs": [
    {
     "name": "stdout",
     "output_type": "stream",
     "text": [
      "Done! No more missing values in Age\n"
     ]
    }
   ],
   "source": [
    "# Tratando valores faltantes em Age\n",
    "fill_age(df=df_inic)"
   ]
  },
  {
   "cell_type": "code",
   "execution_count": 6,
   "metadata": {},
   "outputs": [],
   "source": [
    "# Criando features small_family e Alone\n",
    "create_family(df=df_inic)\n",
    "df_inic.drop(\"Family_Size\",axis=1,inplace=True)"
   ]
  },
  {
   "cell_type": "code",
   "execution_count": 7,
   "metadata": {},
   "outputs": [],
   "source": [
    "# Removendo features não utilizadas\n",
    "drop_list = ['Pclass','Name','Ticket','Fare','Cabin','Embarked','Title','SibSp','Parch']\n",
    "\n",
    "remove_features(df=df_inic,drop_list=drop_list)"
   ]
  },
  {
   "cell_type": "code",
   "execution_count": 8,
   "metadata": {},
   "outputs": [],
   "source": [
    "# Transformando as categóricas em dummies\n",
    "df_inic = pd.get_dummies(data=df_inic,prefix='d',columns=['Sex'])\n",
    "# Removendo a dummie \"d_male\" que é complementar à d_female. Estamos removendo uma feature redundante\n",
    "df_inic.drop(\"d_male\",axis=1,inplace=True)"
   ]
  },
  {
   "cell_type": "code",
   "execution_count": 9,
   "metadata": {},
   "outputs": [],
   "source": [
    "# Normalizando a feature Age\n",
    "from sklearn.preprocessing import StandardScaler\n",
    "\n",
    "scaler = StandardScaler(copy=False)\n",
    "scaler.fit_transform(df_inic['Age'].values.reshape(-1,1));"
   ]
  },
  {
   "cell_type": "code",
   "execution_count": 10,
   "metadata": {},
   "outputs": [
    {
     "data": {
      "text/html": [
       "<div>\n",
       "<style scoped>\n",
       "    .dataframe tbody tr th:only-of-type {\n",
       "        vertical-align: middle;\n",
       "    }\n",
       "\n",
       "    .dataframe tbody tr th {\n",
       "        vertical-align: top;\n",
       "    }\n",
       "\n",
       "    .dataframe thead th {\n",
       "        text-align: right;\n",
       "    }\n",
       "</style>\n",
       "<table border=\"1\" class=\"dataframe\">\n",
       "  <thead>\n",
       "    <tr style=\"text-align: right;\">\n",
       "      <th></th>\n",
       "      <th>Survived</th>\n",
       "      <th>Age</th>\n",
       "      <th>Small_Family</th>\n",
       "      <th>Alone</th>\n",
       "      <th>d_female</th>\n",
       "    </tr>\n",
       "    <tr>\n",
       "      <th>PassengerId</th>\n",
       "      <th></th>\n",
       "      <th></th>\n",
       "      <th></th>\n",
       "      <th></th>\n",
       "      <th></th>\n",
       "    </tr>\n",
       "  </thead>\n",
       "  <tbody>\n",
       "    <tr>\n",
       "      <th>1</th>\n",
       "      <td>0</td>\n",
       "      <td>-0.584387</td>\n",
       "      <td>1</td>\n",
       "      <td>0</td>\n",
       "      <td>0</td>\n",
       "    </tr>\n",
       "    <tr>\n",
       "      <th>2</th>\n",
       "      <td>1</td>\n",
       "      <td>0.621365</td>\n",
       "      <td>1</td>\n",
       "      <td>0</td>\n",
       "      <td>1</td>\n",
       "    </tr>\n",
       "    <tr>\n",
       "      <th>3</th>\n",
       "      <td>1</td>\n",
       "      <td>-0.282949</td>\n",
       "      <td>1</td>\n",
       "      <td>1</td>\n",
       "      <td>1</td>\n",
       "    </tr>\n",
       "    <tr>\n",
       "      <th>4</th>\n",
       "      <td>1</td>\n",
       "      <td>0.395286</td>\n",
       "      <td>1</td>\n",
       "      <td>0</td>\n",
       "      <td>1</td>\n",
       "    </tr>\n",
       "    <tr>\n",
       "      <th>5</th>\n",
       "      <td>0</td>\n",
       "      <td>0.395286</td>\n",
       "      <td>1</td>\n",
       "      <td>1</td>\n",
       "      <td>0</td>\n",
       "    </tr>\n",
       "  </tbody>\n",
       "</table>\n",
       "</div>"
      ],
      "text/plain": [
       "             Survived       Age  Small_Family  Alone  d_female\n",
       "PassengerId                                                   \n",
       "1                   0 -0.584387             1      0         0\n",
       "2                   1  0.621365             1      0         1\n",
       "3                   1 -0.282949             1      1         1\n",
       "4                   1  0.395286             1      0         1\n",
       "5                   0  0.395286             1      1         0"
      ]
     },
     "execution_count": 10,
     "metadata": {},
     "output_type": "execute_result"
    }
   ],
   "source": [
    "# Observando o dataframe que será utilizado nos modelos de ML\n",
    "df_inic.head()"
   ]
  },
  {
   "cell_type": "markdown",
   "metadata": {},
   "source": [
    "## Aplicando em modelos de ML"
   ]
  },
  {
   "cell_type": "code",
   "execution_count": 11,
   "metadata": {},
   "outputs": [],
   "source": [
    "X = df_inic.drop('Survived',axis=1)\n",
    "y = df_inic['Survived']"
   ]
  },
  {
   "cell_type": "code",
   "execution_count": 12,
   "metadata": {},
   "outputs": [],
   "source": [
    "from sklearn.model_selection import train_test_split\n",
    "from sklearn import model_selection\n",
    "\n",
    "from sklearn.dummy import DummyClassifier\n",
    "from sklearn.tree import DecisionTreeClassifier\n",
    "from sklearn.ensemble import RandomForestClassifier\n",
    "from sklearn.svm import SVC\n",
    "from sklearn.ensemble import GradientBoostingClassifier\n",
    "import xgboost\n",
    "\n",
    "from sklearn.metrics import accuracy_score\n",
    "\n",
    "SEED = 144\n",
    "np.random.seed(SEED)"
   ]
  },
  {
   "cell_type": "code",
   "execution_count": 13,
   "metadata": {},
   "outputs": [
    {
     "name": "stdout",
     "output_type": "stream",
     "text": [
      "(668, 4) (223, 4) (668,) (223,)\n"
     ]
    }
   ],
   "source": [
    "X_train, X_test, y_train, y_test = train_test_split(X,y, test_size=0.25)\n",
    "print(X_train.shape, X_test.shape, y_train.shape, y_test.shape)"
   ]
  },
  {
   "cell_type": "code",
   "execution_count": 14,
   "metadata": {},
   "outputs": [
    {
     "name": "stdout",
     "output_type": "stream",
     "text": [
      "Train score: 82.49\n",
      "accuracy_score: 83.86\n"
     ]
    }
   ],
   "source": [
    "svc_model = SVC()\n",
    "svc_model.fit(X_train,y_train)\n",
    "svc_y_pred = svc_model.predict(X_test)\n",
    "svc_score = round(svc_model.score(X_train,y_train)*100,2)\n",
    "print(\"Train score:\",svc_score)\n",
    "print(\"accuracy_score:\", round(accuracy_score(svc_y_pred,y_test)*100,2))"
   ]
  },
  {
   "cell_type": "code",
   "execution_count": 15,
   "metadata": {
    "scrolled": true
   },
   "outputs": [
    {
     "name": "stdout",
     "output_type": "stream",
     "text": [
      "Train score: 84.281\n",
      "accuracy_score: 83.41\n"
     ]
    }
   ],
   "source": [
    "gradient_boosting_model = GradientBoostingClassifier()\n",
    "gradient_boosting_model.fit(X_train,y_train)\n",
    "gradient_y_pred = gradient_boosting_model.predict(X_test)\n",
    "gradient_boosting_score = round(gradient_boosting_model.score(X_train,y_train)*100,3)\n",
    "print(\"Train score:\",gradient_boosting_score)\n",
    "print(\"accuracy_score:\", round(accuracy_score(gradient_y_pred,y_test)*100,2))"
   ]
  },
  {
   "cell_type": "markdown",
   "metadata": {},
   "source": [
    "## O que é e para que serve a validação cruzada?"
   ]
  },
  {
   "cell_type": "markdown",
   "metadata": {},
   "source": [
    "Consta na documentação da biblioteca scikit-learn (https://scikit-learn.org/stable/modules/cross_validation.html) que a validação cruzada fornece informações sobre o quanto um modelo é capaz de generalizar suas previsões, ou seja, se adequar a novos dados inseridos no teste e consequentemente na etapa de produção (deploy), evitando assim problemas como overfitting.\n",
    "\n",
    "Na prática, a técnica conhecida como k-fold consiste em separar os dados em k partes (k folds), treinar o modelo com as k-1 partes e validá-lo com a parte não utilizada no treinamento. Esse processo se repete até que cada parte tenha sido utilizada como validação, ou seja, após k iterações. O número de partes é arbitrário, mas seu valor padrão é 10. Dessa forma o modelo é treinado com nove partes e depois validado com uma e o processo total requer 10 iterações."
   ]
  },
  {
   "cell_type": "markdown",
   "metadata": {},
   "source": [
    "### Viés e Variância na vizualização da curva de aprendizado para um modelo SVC\n",
    "Na vizualização abaixo são utilizados diferentes tamanhos para os dados de treino, estes vão aumentando no decorrer das iterações. O resultado obtido, portanto será uma indicação da influência da quantidade de dados na performance deste modelo, vamos analizar os resultados sob o ponto de vista de viés e variância."
   ]
  },
  {
   "cell_type": "code",
   "execution_count": 16,
   "metadata": {},
   "outputs": [],
   "source": [
    "X = pd.concat([X_train,X_test])\n",
    "y = pd.concat([y_train,y_test])"
   ]
  },
  {
   "cell_type": "code",
   "execution_count": 17,
   "metadata": {},
   "outputs": [
    {
     "data": {
      "image/png": "[encoded data removed]",
      "text/plain": [
       "<Figure size 720x432 with 1 Axes>"
      ]
     },
     "metadata": {
      "needs_background": "light"
     },
     "output_type": "display_data"
    }
   ],
   "source": [
    "train_sizes,train_scores,test_scores=model_selection.learning_curve(estimator = SVC(),\n",
    "                                                          X=X,y=y,scoring='roc_auc',\n",
    "                                                          random_state=SEED\n",
    "                                                         )\n",
    "\n",
    "train_mean = np.mean(train_scores, axis=1)\n",
    "train_std = np.std(train_scores, axis=1)\n",
    "\n",
    "test_mean = np.mean(test_scores, axis=1)\n",
    "test_std = np.std(test_scores, axis=1)\n",
    "\n",
    "plt.subplots(1, figsize=(10,6))\n",
    "plt.plot(train_sizes, train_mean, '--', color=\"blue\",  label=\"score no treinamento\")\n",
    "plt.plot(train_sizes, test_mean, color=\"red\", label=\"score na validação cruzada\")\n",
    "\n",
    "plt.fill_between(train_sizes, train_mean - train_std, train_mean + train_std, color=\"#DDDDDD\")\n",
    "plt.fill_between(train_sizes, test_mean - test_std, test_mean + test_std, color=\"#DDDDDD\")\n",
    "\n",
    "plt.title(\"figura 01:\\nCurva de aprendizado\")\n",
    "plt.xlabel(\"Tamanho do conjunto de treino\"), plt.ylabel(\"score ROC-AUC\"), plt.legend(loc=\"best\")\n",
    "plt.tight_layout()\n",
    "plt.show()"
   ]
  },
  {
   "cell_type": "markdown",
   "metadata": {},
   "source": [
    "Obseve que à medida em que vão sendo adicionados mais dados no treinamento do modelo o score da validação cruzada se aproxima do score do treinamento, o viés do treinamento aumenta e o da validação cruzada diminui. Isso indica que o grau de generalização do modelo está aumentando, ou seja, nos distanciamos do underfitting e do overftting. Também é possível observar esse fato atentando para a variância (parte cinza do gráfico). Conforme acrescentamos dados ao treinamento do modelo, a variância diminui indicando melhor generalização. "
   ]
  },
  {
   "cell_type": "markdown",
   "metadata": {},
   "source": [
    "### Aplicando validação cruzada com k-fold a um grupo de modelos "
   ]
  },
  {
   "cell_type": "code",
   "execution_count": 18,
   "metadata": {},
   "outputs": [
    {
     "name": "stdout",
     "output_type": "stream",
     "text": [
      "model_svc AUC: 0.810 STD: 0.02\n"
     ]
    }
   ],
   "source": [
    "# Modelo SVM com ahiperparâmetros default.\n",
    "model_svc = SVC(random_state=SEED)\n",
    "model_svc.fit(X,y)\n",
    "kfold = model_selection.KFold(n_splits=10)\n",
    "s_svm = model_selection.cross_val_score(model_svc,X,y, scoring=\"roc_auc\",cv=kfold)\n",
    "print('model_svc AUC: '\n",
    "      f'{s_svm.mean():0.3f} STD: {s_svm.std():0.2f}')"
   ]
  },
  {
   "cell_type": "code",
   "execution_count": 19,
   "metadata": {},
   "outputs": [
    {
     "name": "stdout",
     "output_type": "stream",
     "text": [
      "model_svc AUC: 0.809 STD: 0.04\n"
     ]
    }
   ],
   "source": [
    "# Modelo RandomForest com ahiperparâmetros default.\n",
    "model_rf = RandomForestClassifier(random_state=SEED)\n",
    "model_rf.fit(X,y)\n",
    "kfold = model_selection.KFold(n_splits=10)\n",
    "s_rf = model_selection.cross_val_score(model_rf,X,y, scoring=\"roc_auc\",cv=kfold)\n",
    "print('model_svc AUC: '\n",
    "      f'{s_rf.mean():0.3f} STD: {s_rf.std():0.2f}')"
   ]
  },
  {
   "cell_type": "code",
   "execution_count": 20,
   "metadata": {},
   "outputs": [
    {
     "name": "stdout",
     "output_type": "stream",
     "text": [
      "model_xgb AUC: 0.826 STD: 0.05\n"
     ]
    }
   ],
   "source": [
    "# Modelo XGBoost com ahiperparâmetros default.\n",
    "model_xgb = xgboost.XGBClassifier(random_state=SEED)\n",
    "model_xgb.fit(X,y)\n",
    "kfold = model_selection.KFold(n_splits=10)\n",
    "s_xgb = model_selection.cross_val_score(model_xgb,X,y, scoring=\"roc_auc\",cv=kfold)\n",
    "print('model_xgb AUC: '\n",
    "      f'{s_xgb.mean():0.3f} STD: {s_xgb.std():0.2f}')"
   ]
  },
  {
   "cell_type": "markdown",
   "metadata": {},
   "source": [
    "## O que é e para que serve o Grid Search?"
   ]
  },
  {
   "cell_type": "markdown",
   "metadata": {},
   "source": [
    "Grid Search é um método que utiliza a busca exaustiva para encontrar as melhores combinações de hiperparâmetros em um dado modelo já instanciado. A busca exaustiva mencionada acima nada mais é do que realizar fit, predict e cálcular o score de um modelo para cada combinação possível dos hiperparâmetros previamente escolhidos.\n",
    "\n",
    "Pela biblioteca scikit-learn, após a aplicação do método GridSearchCV(), O comando sorted(clf.cv_results_.keys()) retorna a lista de métodos para obtenção dos dados calculados pelo Grid Search. Na demonstração abaixo são utilizados \".best_score_\" e \".best_params_\" que irão retornar respectivamente o melhor score dentre as combinações e a melhor combinação de hiperparâmetros."
   ]
  },
  {
   "cell_type": "markdown",
   "metadata": {},
   "source": [
    "## Buscando melhores combinações de hiperparâmetros com Grid Search."
   ]
  },
  {
   "cell_type": "code",
   "execution_count": 21,
   "metadata": {},
   "outputs": [],
   "source": [
    "# Definindo uma função para modularizar a aplicação do Grid Search\n",
    "def grid_s(X,y,model,params,scoring_metric=\"roc_auc\"):\n",
    "    '''Aplica Grid Search em um modelo já instanciado. \n",
    "        - model: Modelo já instanciado (sem default)\n",
    "        - params: dicionário com os hiperpárâmetros para testes (sem default)\n",
    "        - scoring_metric: métrica de validação (default = 'roc_auc')\n",
    "       Obs: requer importação de model_selection da scikit-learn'''\n",
    "    \n",
    "    grid = model_selection.GridSearchCV(estimator=model,\n",
    "                                        param_grid=params,\n",
    "                                        scoring=scoring_metric)\n",
    "    grid.fit(X,y)\n",
    "       \n",
    "    return (grid.best_score_,grid.best_params_)"
   ]
  },
  {
   "cell_type": "code",
   "execution_count": 22,
   "metadata": {},
   "outputs": [
    {
     "name": "stdout",
     "output_type": "stream",
     "text": [
      "Score da melhor combinação de hiperparâmetros: 0.8223696519620287\n",
      "Melhor combinação: {'C': 20, 'gamma': 'scale', 'kernel': 'rbf', 'random_state': 144}\n"
     ]
    }
   ],
   "source": [
    "# Modelo SVM\n",
    "model_svc = SVC()\n",
    "# Lista de hiperparâmetros para teste\n",
    "params_svc = {'kernel': ('linear','sigmoid','rbf'),\n",
    "              'C' : [0.1, 1, 10, 13, 15, 20,],\n",
    "              'gamma' : [0.1, 1, 2, 3, 4, 5, 'scale',],\n",
    "              'random_state' : [SEED],\n",
    "             }\n",
    "\n",
    "model_svc_score, model_svc_params = grid_s(X=X,y=y,model=model_svc,\n",
    "                                          params=params_svc,\n",
    "                                          scoring_metric='roc_auc')\n",
    "\n",
    "print(f'Score da melhor combinação de hiperparâmetros: {model_svc_score}\\n'\n",
    "      f'Melhor combinação: {model_svc_params}')"
   ]
  },
  {
   "cell_type": "code",
   "execution_count": 23,
   "metadata": {},
   "outputs": [
    {
     "name": "stdout",
     "output_type": "stream",
     "text": [
      "Score da melhor combinação de hiperparâmetros: 0.833898655955837\n",
      "Melhor combinação: {'max_depth': 5, 'n_estimators': 50, 'random_state': 144}\n"
     ]
    }
   ],
   "source": [
    "# Modelo RandomForest\n",
    "model_rf = RandomForestClassifier()\n",
    "# Lista de hiperparâmetros para teste\n",
    "params_rf = {'n_estimators' : [50, 100, 150,],\n",
    "             'max_depth' : [1, 5, 10, 15, 20,],\n",
    "             'random_state' : [SEED]}\n",
    "\n",
    "model_rf_score, model_rf_params = grid_s(X=X,y=y,model=model_rf,\n",
    "                                          params=params_rf,\n",
    "                                          scoring_metric='roc_auc')\n",
    "\n",
    "print(f'Score da melhor combinação de hiperparâmetros: {model_rf_score}\\n'\n",
    "      f'Melhor combinação: {model_rf_params}')"
   ]
  },
  {
   "cell_type": "code",
   "execution_count": 24,
   "metadata": {},
   "outputs": [
    {
     "name": "stdout",
     "output_type": "stream",
     "text": [
      "Score da melhor combinação de hiperparâmetros: 0.8332755983780175\n",
      "Melhor combinação: {'learning_rate': 0.1, 'max_depth': 5, 'n_estimators': 100, 'random_state': 144}\n"
     ]
    }
   ],
   "source": [
    "# Modelo XGBoost\n",
    "model_xgb = xgboost.XGBClassifier()\n",
    "# Lista de hiperparâmetros para teste\n",
    "params_xgb = {'n_estimators' : [50, 100, 150,],\n",
    "             'max_depth' : [1, 5, 10, 15, 20,],\n",
    "             'learning_rate' : [0.01, 0.1, 0.2, 1],\n",
    "             'random_state' : [SEED]}\n",
    "\n",
    "model_xgb_score, model_xgb_params = grid_s(X=X,y=y,model=model_xgb,\n",
    "                                          params=params_xgb,\n",
    "                                          scoring_metric='roc_auc')\n",
    "\n",
    "print(f'Score da melhor combinação de hiperparâmetros: {model_xgb_score}\\n'\n",
    "      f'Melhor combinação: {model_xgb_params}')"
   ]
  },
  {
   "cell_type": "markdown",
   "metadata": {},
   "source": [
    "## Aplicando validação cruzada com K-fold nos modelos já tunados"
   ]
  },
  {
   "cell_type": "code",
   "execution_count": 25,
   "metadata": {},
   "outputs": [
    {
     "name": "stdout",
     "output_type": "stream",
     "text": [
      "model_svc AUC: 0.824 STD: 0.02\n"
     ]
    }
   ],
   "source": [
    "# Modelo SVM com a combinação de hiperparâmetros indicada pelo Grid Search.\n",
    "model_svc = SVC(C=20,gamma='scale',kernel='rbf', random_state=SEED)\n",
    "model_svc.fit(X,y)\n",
    "kfold = model_selection.KFold(n_splits=10)\n",
    "s_svm_gs = model_selection.cross_val_score(model_svc,X,y, scoring=\"roc_auc\",cv=kfold)\n",
    "print('model_svc AUC: '\n",
    "      f'{s_svm_gs.mean():0.3f} STD: {s_svm_gs.std():0.2f}')"
   ]
  },
  {
   "cell_type": "code",
   "execution_count": 26,
   "metadata": {},
   "outputs": [
    {
     "name": "stdout",
     "output_type": "stream",
     "text": [
      "model_rf AUC: 0.831 STD: 0.04\n"
     ]
    }
   ],
   "source": [
    "# Modelo RandomForest com a combinação de hiperparâmetros indicada pelo Grid Search.\n",
    "model_rf = RandomForestClassifier(max_depth = 5, n_estimators = 50, random_state=SEED)\n",
    "model_rf.fit(X,y)\n",
    "kfold = model_selection.KFold(n_splits=10)\n",
    "s_rf_gs = model_selection.cross_val_score(model_rf,X,y, scoring=\"roc_auc\",cv=kfold)\n",
    "print('model_rf AUC: '\n",
    "      f'{s_rf_gs.mean():0.3f} STD: {s_rf_gs.std():0.2f}')"
   ]
  },
  {
   "cell_type": "code",
   "execution_count": 27,
   "metadata": {},
   "outputs": [
    {
     "name": "stdout",
     "output_type": "stream",
     "text": [
      "model_xgb AUC: 0.831 STD: 0.05\n"
     ]
    }
   ],
   "source": [
    "# Modelo XGBoost com a combinação de hiperparâmetros indicada pelo Grid Search.\n",
    "model_xgb = xgboost.XGBClassifier(learning_rate=0.1,max_depth = 5, n_estimators = 100, random_state=SEED)\n",
    "model_xgb.fit(X,y)\n",
    "kfold = model_selection.KFold(n_splits=10)\n",
    "s_xgb_gs = model_selection.cross_val_score(model_xgb,X,y, scoring=\"roc_auc\",cv=kfold)\n",
    "print('model_xgb AUC: '\n",
    "      f'{s_xgb_gs.mean():0.3f} STD: {s_xgb_gs.std():0.2f}')"
   ]
  },
  {
   "cell_type": "markdown",
   "metadata": {},
   "source": [
    "## Comparando os scores\n",
    "Abaixo serao comparados os scores calculados pelo método ROC_AUC nos modelos com hiperpaâmetros default com os scores dos modelos com hiperpaâmetros indicados pelo método Grid Search. Para que não haja risco de overfitting, em ambos os casos foi utilizada a validação cruzada k-fold. Dessa forma pode haver uma comparação justa."
   ]
  },
  {
   "cell_type": "code",
   "execution_count": 28,
   "metadata": {},
   "outputs": [
    {
     "name": "stdout",
     "output_type": "stream",
     "text": [
      "Modelos com hiperparâmetros default:\n",
      "SVC: 0.810\n",
      "RandomForest: 0.809\n",
      "XGBoost: 0.826\n",
      "\n",
      "Modelos com hiperparâmetros indicados pelo Grid Search:\n",
      "SVC: 0.824\n",
      "RandomForest: 0.831\n",
      "XGBoost: 0.831\n"
     ]
    }
   ],
   "source": [
    "print('Modelos com hiperparâmetros default:\\n'\n",
    "      f'SVC: {s_svm.mean():0.3f}\\nRandomForest: {s_rf.mean():0.3f}\\nXGBoost: {s_xgb.mean():0.3f}\\n\\n'\n",
    "      'Modelos com hiperparâmetros indicados pelo Grid Search:\\n'\n",
    "      f'SVC: {s_svm_gs.mean():0.3f}\\nRandomForest: {s_rf_gs.mean():0.3f}\\nXGBoost: {s_xgb_gs.mean():0.3f}'\n",
    "     )"
   ]
  },
  {
   "cell_type": "markdown",
   "metadata": {},
   "source": [
    "## Conclusão"
   ]
  },
  {
   "cell_type": "markdown",
   "metadata": {},
   "source": [
    "A utilização do método de Grid Search foi capaz de aumentar os scores para os três modelos testados, no algoritmo XGBoost, porém, esse aumento não foi tão expressivo quanto nos demais. Além disso esse resultado se torna mais confiável pela utilização da validação cruzada que garante uma boa generalização desses modelos.\n",
    "\n",
    "Com isso o objetivo deste notebook é cumprido. Como complemento podem ser utilizados testes estatísticos para calcular o ganho real da aplicação das técnicas mencionadas acima e até mesmo entender se o aumento do score do algoritmo XGBoost foi estatisticamente significante, pois o método Grid Search possui um custo computacional relativamente alto. Caso o ganho em score não seja significante utilizar esse método pode causar efeitos negativos na eficiência da aplicação."
   ]
  }
 ],
 "metadata": {
  "kernelspec": {
   "display_name": "Python 3",
   "language": "python",
   "name": "python3"
  },
  "language_info": {
   "codemirror_mode": {
    "name": "ipython",
    "version": 3
   },
   "file_extension": ".py",
   "mimetype": "text/x-python",
   "name": "python",
   "nbconvert_exporter": "python",
   "pygments_lexer": "ipython3",
   "version": "3.7.7"
  }
 },
 "nbformat": 4,
 "nbformat_minor": 2
}
